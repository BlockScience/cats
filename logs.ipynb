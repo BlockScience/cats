{
 "cells": [
  {
   "cell_type": "markdown",
   "id": "c50dde91-e227-48e4-8bdd-e1263b7ee940",
   "metadata": {},
   "source": [
    "### Week 3 (1/8 - 1/12): \n",
    "* Review Designs within the context of Data Sovereignty;\n",
    "* https://en.wikipedia.org/wiki/Data_sovereignty\n",
    "* https://www.ibm.com/blog/living-in-a-data-sovereign-world/\n",
    "* https://atlan.com/data-sovereignty-requirements/\n",
    "* Research CLI wrapper alternative to CDKTF \n",
    "* Review Database Sharding within the context of Data Products’ data: https://aws.amazon.com/what-is/database-sharding/\n",
    "* Review Value of data\n",
    "* Verify CATs’ Project Update: Factory & Executor components; Invoice, Order, Function, Executor, & BOM Block Designs, Structure’s Ray Cluster Deployment  on Kubernetese, BOM Initialization, CAT Node & Node Design"
   ]
  },
  {
   "cell_type": "markdown",
   "id": "d2cd5d37-99b5-4957-8ac3-0422a4e6199e",
   "metadata": {},
   "source": [
    "### Week 4 (1/15 - 1/19):\n",
    "* Research Dynamic Terraform Providers for Plant Deployments\n",
    "* Verify CATs’ Project Update: Structure Block Design, Data Service Collaboration Diagram, Ray Integration\n",
    "* Watched Computational Governance Panel\n",
    "* Review Ray documentation for InfraFunction Hooks\n",
    "* Research Open Contracting Data Standard with respect to Data Product Teams: https://standard.open-contracting.org/latest/en/"
   ]
  },
  {
   "cell_type": "markdown",
   "id": "78c9dc52-030b-4754-8669-0c10dbdc9faf",
   "metadata": {},
   "source": [
    "### Week 5 (1/22 - 1/26)\n",
    "* 1/22: \n",
    "  * Updated CATs integration tests and demo\n",
    "  * Resolved dependency bug\n",
    "  * Verify CATs’ Project Update: Process Component, Sub-Process Logging, Executor & Function Components\n",
    "* 1/23: \n",
    "  * Updated Documentation and Demo\n",
    "  * Added License and Packaging for CATs\n",
    "  * Verify CATs’ Project Update: s3 & CoD Integration\n",
    "* 1/24: \n",
    "  * Updated Documentation & Refactor\n",
    "  * CATs Data Verification\n",
    "  * Verify CATs’ Project Update: Updating Order Structure, Node, Service & Structure Components\n",
    "* 1/25 - 1/26: \n",
    "  * Updated Documentation & Refactor\n",
    "  * Update Factory\n",
    "  * Reviewed Novo Nordisk Data Mesh Platform discussion\n",
    "  * Verify CATs’ Project Update: CATs s3 cache, BOM ERD"
   ]
  },
  {
   "cell_type": "markdown",
   "id": "d5e1d554-ac2a-4f3e-af07-4be7e1493485",
   "metadata": {},
   "source": [
    "### Week 6 (1/29 - 2/2): \n",
    "* Included Ubuntu 20.04 Installation Update\n",
    "* Refactored CATs\n",
    "* Researched CAT cache access management\n",
    "* Research Economic Adapters for CATs\n",
    "* Research multilevel linked-list for CATs’ subgraph"
   ]
  },
  {
   "cell_type": "markdown",
   "id": "baee354c-dee3-4a6c-8d94-664e4e22ae30",
   "metadata": {},
   "source": [
    "### Week 7 (1/5 – 1/9): \n",
    "* Research bidirectional mapping supports multilevel linked-list for CATs’ subgraph\n",
    "* Consider Transducers for CAT MIMO\n",
    "* Updated PR Template\n",
    "* Review Model-Driven Engineering: https://en.wikipedia.org/wiki/Model-driven_engineering"
   ]
  },
  {
   "cell_type": "markdown",
   "id": "abcb43ac-28fc-4a45-b2cc-4b20028c5981",
   "metadata": {},
   "source": [
    "### Week 8 (2/12 - 2/16):\n",
    "* 2/12: Drafted CATs capabilities in GitHub Project and reviewed Activity Artifact Policy\n",
    "* 2/13: Reviewed implementation examples of Data Contracts\n",
    "* 2/14 - 2/15: \n",
    "  * Reviewed Data Mesh Roundtable Discussions about Data Contracts and “Agile” Data Products\n",
    "  * Attended Protocol Labs project updates\n",
    "* 2/16: Research System Architecture layers and wrote notes as Data Contract Article for CATs\n",
    "\n",
    "Data Mesh Resources:\n",
    "* “Inside a Data Contract”: https://www.youtube.com/watch?v=ye4geXMuJKs\n",
    "* “Agile in Data”: https://www.youtube.com/watch?v=XnstATam0jM\n",
    "* Data Contract Articles: https://www.datamesh-architecture.com/#data-contract\n",
    "\n",
    "Data Contract Implementation Examples:\n",
    "* https://blog.det.life/data-contracts-a-guide-to-implementation-86cf9b032065\n",
    "* https://levelup.gitconnected.com/create-a-web-scraping-pipeline-with-python-using-data-contracts-281a30440442\n",
    "* https://docs.soda.io/soda/data-contracts.html\n",
    "\n",
    "System Architecture:\n",
    "* https://blog.jgriffiths.org/systems-architecture-conceptual-logical-and-physical/\n",
    "\n",
    "#### What does a CATs data contract do?\n",
    "\n",
    "Data Contract is a Service agreement between producer and consumer with attribute dependencies for downstream Data Product evolution with dedicated lineage. A data contracts can provide tools for collaboration on data requirements as product promises within a shared context that inform policies for contract mutation along side Data Product versioning.\n",
    "\n",
    "A Data Contract’s Product Promises are what the data product owners expect from its data consumer up to the latest block of information. These promises may include data quality, data usage terms and conditions, schema, service-objectives, billing, etc. Data Contract policy mutation cascaded downstream as bilateral lateral agreements that “forks” lineage as a new Data Product version. For Example, the consumer takes the risk of violating privacy. Data Producers create Data Contracts on Organization and Business Terms. The consumer of the Data Contract enforces Governance policies. The producer of the Data Contract owns the Data Product if the organization doesn't have a Governance body. \n",
    "\n",
    "Governance policies are discussed between data producers and consumers to agree upon data producer requirements. These discussions should culminate into an amenable data structure / dataset. Structured data is conducive for pre-exsisting policies and less discussion. Less structured data will need more discussion and policy feedback loops. We need a Minimal Viable Data Contract that includes what is necessary for an organization to govern with the means of supporting policy feedback loops in a way that guides discussion in a way that balances the prioritization of outcomes and methodologies.\n",
    "\n",
    "Interdependent data domains have sub-domains with identifiers for generating Data Products. CAT Nodes will generate and execute Virtual Data Products composed as Data Contracts that enforce Data Provenance using Bills of Materials (BOMs). BOMs are CATs' Content-Addressed Data Provenance record for verifiable data processing and transport on a Mesh network of CAT Nodes. Data Contracts will contain a BOMs lineages and act as block headers for Content-Addressed Transformers (CATs) instances. Data Products are mutated during policy feedback loops informed collaborators communicating their understanding of knowledge domains. Collaborators will identify knowledge sub-domains with references and will access sub-domains using Content-Addresses. Access is federated via knowledge domain hierarchies in abstractions that enable collaborators to participate in governance cycles by leveraging their understanding of knowledge."
   ]
  },
  {
   "cell_type": "markdown",
   "id": "e23e7e39-ed27-47bc-9107-f6a5fcd71457",
   "metadata": {},
   "source": [
    "### Week 9 (2/19 - 2/23):\n",
    "* 2/19 - 2/21: Contextualize value of BOM within the context of Data as a Product that contains Data Contracts\n",
    "* 2/22 - 2/23: Updated Readme informed by examples of Data Assets within the context of Machine-Readable Cataloging\n",
    "\n",
    "Resources:\n",
    "* https://www.loc.gov/marc/umb/um01to06.html\n",
    "* https://docs.informatica.com/data-engineering/data-engineering-quality/10-2-1/business-glossary-guide/glossary-content-management/business-term-links/data-asset.html\n",
    "\n",
    "#### What is a Content-Addressed Data Asset (CADA)?\n",
    "\n",
    "CATs Data Products will consist of Data Contracts with provenance as executable BOMs lineages and act as block headers for Content-Addressed Transformers (CATs) instances that contain Data Assets. BOMs are CATs' Content-Addressed Data Provenance record for verifiable data processing and transport on a Mesh network of CAT Nodes that can contain Data Assets. A data asset may be a system or application output” (dataset) that holds value for an organization or individual that is accessible. Data Assets’ value can derive from the data's potential for generating insights, informing decision-making, contributing to product development, enhancing operational efficiency, or creating economic benefits through its sale or exchange. \n",
    "\n",
    "CATs' Content-Addressed Data Assets are processed, sold / exchanged / published on CAT’s Data Mesh via CAT Nodes subsumed by downstream CATs’ Data Products. Data Assets consist of the following:\n",
    "* **Data Domains** - \"A predefined or user-defined Model repository object that represents the functional meaning of an\" attribute \"based on column data or column name such as\" account identification.\n",
    "* **Data Objects** - Content-Addresses of data sources used to extract metadata for analysis."
   ]
  },
  {
   "cell_type": "markdown",
   "id": "d4209114-d726-4326-a9ad-b7d69249dc4e",
   "metadata": {},
   "source": [
    "### Week 10 (2/26 - 3/1):\n",
    "\n",
    "* 2/26: Researched Digital Asset Management related Data Contracts and Data Mesh Registry & considered a Rule Asset being used for Network Policies in addition to Attribute Quality \n",
    "* 2/27: Considered Rule Assets in addition to Data Assets for Data Mesh Registry Artifact Schema\n",
    "  * https://towardsdatascience.com/the-data-mesh-registry-a-window-into-your-data-mesh-20dece35e05a \n",
    "  * https://docs.informatica.com/data-engineering/data-engineering-quality/10-2-1/business-glossary-guide/glossary-content-management/business-term-links/data-asset.html\n",
    "  * https://docs.informatica.com/data-engineering/data-engineering-quality/10-2-1/business-glossary-guide/glossary-content-management/business-term-links/rule-asset.html\n",
    "* 2/28: Verify CATs Executing FaaS on PaaS\n",
    "  * https://www.ibm.com/topics/faas\n",
    "  * https://www.ibm.com/topics/iaas-paas-saas\n",
    "* 2/29: Review Domain-Oriented Ownership with respect to Conway's law\n",
    "  * https://www.starburst.io/blog/data-mesh-book-bulletin-principle-of-domain-ownership/\n",
    "  * https://developer.confluent.io/courses/data-mesh/data-ownership/\n",
    "  * https://en.wikipedia.org/wiki/Conway%27s_law\n",
    "* 3/1: Review Data Column Lineage value to in establishing Domain-Oriented Ownership in CATs Invoice in a way that makes BOM’s searchable and discoverable"
   ]
  },
  {
   "cell_type": "markdown",
   "id": "b25e3f7e-9bf1-4c1a-95ae-2371e9532779",
   "metadata": {},
   "source": [
    "### Week 11 (3/4 - 3/8):\n",
    "* 3/4: Contextualize “Data as an asset” with CATs Architecture\n",
    "  * https://atlan.com/data-as-an-asset/\n",
    "* 3/5: Contextualize Data sovereignty with “Data as an asset” for CATs Data Mesh\n",
    "  * https://www.nnlm.gov/guides/data-glossary/data-sovereignty#:~:text=Definition,storage%2C%20and%20interpretation%20of%20data.\n",
    "* 3/6: Contextually map Data Contract initialization roles to cross-functional Operational Model for Data Products\n",
    "  * https://standard.open-contracting.org/latest/en/guidance/design/#build-your-team\n",
    "* 3/7: Contextually map \"Fractional Ownership\" of \"Decentralized Data Objects\" (\"DDOs\" / \"Data Assets\") to \"Data as an asset\" and Data Partioning / Sharding\n",
    "  * https://docs.oceanprotocol.com/developers/fractional-ownership \n",
    "  * https://docs.oceanprotocol.com/developers/ddo-specification\n",
    "  * https://en.wikipedia.org/wiki/Partition_(database)\n",
    "  * https://en.wikipedia.org/wiki/Shard_(database_architecture)\n",
    "* 3/8: Contextualize Ocean Protocol & CATs Architecture with prosumption\n",
    "  * https://docs.oceanprotocol.com/developers/architecture \n",
    "  * https://en.wikipedia.org/wiki/Prosumer\n",
    "\n",
    "“Data as an asset” enables the consumption, production, [prosumption](https://en.wikipedia.org/wiki/Prosumer) of Data Assets on CATs Data Mesh\n",
    "\n",
    "“Data as an asset” [0.](https://atlan.com/data-as-an-asset/) conceptually emphasizes recognizing and treating data as a strategic investment organizations can leverage to deliver future economic benefits by enabling the consumption, production, prosumption of ones own data as an asset. Prosumption is the consumption and production of value, \"either for self-consumption or consumption by others, and can receive implicit or explicit incentives from organizations involved in the exchange.\" [1.](https://doi.org/10.1108/JOSM-05-2020-0155)\n",
    "\n",
    "The availability of high-quality and domain-specified Data Assets enables Data Products on inter-connected CAT Nodes on CATs Data Mesh to facilitate cross-functional asset utilization within Data Initiatives in a way that support Data Sovereignty. \"Data sovereignty refers to a group or individual’s right to control and maintain their own data, which includes the collection, storage, and interpretation of data.\" [2.](https://www.nnlm.gov/guides/data-glossary/data-sovereignty#:~:text=Definition,storage%2C%20and%20interpretation%20of%20data.)\n",
    "\n",
    "CATs Registry Catalog (\"CATlog Registry\") can accelerate innovative Data Product creation and facilitate Data Sovereignty in Data Initiatives that discover and utilize “Data as an asset”. Data Products use and operate CAT Nodes to produce, register, and catalog “Data as an asset” as searchable and discoverable Data Assets by Data Products on CATs Data Mesh. CATs Data Assets enhances strategic, operational, and analysis informed decision-making by using BOMs as feedback loop mechanisms across domains in a way that suits specific collaborative contexts across organizations.\n",
    "\n",
    "Resources:\n",
    "* https://www.youtube.com/watch?v=uv52swYfStU&t=6s\n",
    "* https://www.youtube.com/watch?v=pbBGciy8ZbM"
   ]
  },
  {
   "cell_type": "code",
   "execution_count": null,
   "id": "d9e2711b-f704-4e69-961d-21ad3b6e233c",
   "metadata": {},
   "outputs": [],
   "source": []
  }
 ],
 "metadata": {
  "kernelspec": {
   "display_name": "Python 3 (ipykernel)",
   "language": "python",
   "name": "python3"
  },
  "language_info": {
   "codemirror_mode": {
    "name": "ipython",
    "version": 3
   },
   "file_extension": ".py",
   "mimetype": "text/x-python",
   "name": "python",
   "nbconvert_exporter": "python",
   "pygments_lexer": "ipython3",
   "version": "3.10.13"
  }
 },
 "nbformat": 4,
 "nbformat_minor": 5
}
