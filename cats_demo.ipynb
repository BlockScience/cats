{
 "cells": [
  {
   "cell_type": "code",
   "execution_count": 1,
   "id": "38958585-cae4-422b-98ae-79fd203f9f19",
   "metadata": {
    "execution": {
     "iopub.execute_input": "2024-01-23T18:22:13.898594Z",
     "iopub.status.busy": "2024-01-23T18:22:13.898208Z",
     "iopub.status.idle": "2024-01-23T18:22:14.445141Z",
     "shell.execute_reply": "2024-01-23T18:22:14.444690Z"
    }
   },
   "outputs": [
    {
     "name": "stderr",
     "output_type": "stream",
     "text": [
      "/tmp/ipykernel_4091781/1461130463.py:2: FutureWarning: The `ipfsapi` library is deprecated and will stop receiving updates on the 31.12.2019! If you are on Python 3.5+ please enable and fix all Python deprecation warnings (CPython flag `-Wd`) and switch to the new `ipfshttpclient` library name. Python 2.7 and 3.4 will not be supported by the new library, so please upgrade.\n",
      "  import ipfsapi as ipfsApi\n"
     ]
    },
    {
     "name": "stderr",
     "output_type": "stream",
     "text": [
      "/home/jjodesty/Projects/Research/cats-research/venv/lib/python3.10/site-packages/tqdm/auto.py:21: TqdmWarning: IProgress not found. Please update jupyter and ipywidgets. See https://ipywidgets.readthedocs.io/en/stable/user_install.html\n",
      "  from .autonotebook import tqdm as notebook_tqdm\n",
      "2024-01-23 13:22:14,439\tINFO util.py:159 -- Missing packages: ['ipywidgets']. Run `pip install -U ipywidgets`, then restart the notebook server for rich notebook output.\n"
     ]
    }
   ],
   "source": [
    "from pprint import pprint\n",
    "import ipfsapi as ipfsApi\n",
    "from cats.network import MeshClient\n",
    "from cats.service import Service\n",
    "from process import *"
   ]
  },
  {
   "cell_type": "markdown",
   "id": "5a10b583-b05a-41f0-af3c-bf36bc6dc51b",
   "metadata": {},
   "source": [
    "### Execute Initial CAT0:"
   ]
  },
  {
   "cell_type": "markdown",
   "id": "2519f361-95d9-41bd-abfb-c677e4ac9047",
   "metadata": {},
   "source": [
    "##### Instantiate CAT Service:"
   ]
  },
  {
   "cell_type": "code",
   "execution_count": 2,
   "id": "579b6eef-b426-4279-aa62-19a31ec65219",
   "metadata": {
    "execution": {
     "iopub.execute_input": "2024-01-23T18:22:14.447351Z",
     "iopub.status.busy": "2024-01-23T18:22:14.447227Z",
     "iopub.status.idle": "2024-01-23T18:22:14.450525Z",
     "shell.execute_reply": "2024-01-23T18:22:14.449930Z"
    }
   },
   "outputs": [],
   "source": [
    "service = Service(\n",
    "    meshClient=MeshClient(\n",
    "        ipfsClient=ipfsApi.Client('127.0.0.1', 5001)\n",
    "    )\n",
    ")"
   ]
  },
  {
   "cell_type": "markdown",
   "id": "8724e0fa-f0d4-44ac-b504-af812e800e98",
   "metadata": {},
   "source": [
    "##### Compose Initial CAT Order request for CAT Node"
   ]
  },
  {
   "cell_type": "code",
   "execution_count": 3,
   "id": "e877dffa-d3c6-4aab-a9a4-0c672ce50d3e",
   "metadata": {
    "execution": {
     "iopub.execute_input": "2024-01-23T18:22:14.452930Z",
     "iopub.status.busy": "2024-01-23T18:22:14.452511Z",
     "iopub.status.idle": "2024-01-23T18:22:14.477371Z",
     "shell.execute_reply": "2024-01-23T18:22:14.476617Z"
    }
   },
   "outputs": [
    {
     "name": "stdout",
     "output_type": "stream",
     "text": [
      "{'order_cid': 'QmSmGTZTUaFyhxdfp8uLrAWPvkREmRq1vxbnPYEVTvw2Xu'}\n"
     ]
    }
   ],
   "source": [
    "cat_order_request_0 = service.create_order_request(\n",
    "    process_obj=process_0,\n",
    "    data_dirpath='data',\n",
    "    structure_filepath='main.tf',\n",
    "    endpoint='http://127.0.0.1:5000/cat/node/init'\n",
    ")\n",
    "pprint(cat_order_request_0)"
   ]
  },
  {
   "cell_type": "markdown",
   "id": "c24bbef4-b4df-44d0-b6d5-52553552dcb8",
   "metadata": {},
   "source": [
    "##### Submit Initial CAT Order request to CAT Node"
   ]
  },
  {
   "cell_type": "code",
   "execution_count": 4,
   "id": "09d5b3d3-0f3f-4a45-b5d3-22981d807db6",
   "metadata": {
    "execution": {
     "iopub.execute_input": "2024-01-23T18:22:14.479773Z",
     "iopub.status.busy": "2024-01-23T18:22:14.479284Z",
     "iopub.status.idle": "2024-01-23T18:23:52.042954Z",
     "shell.execute_reply": "2024-01-23T18:23:52.042160Z"
    }
   },
   "outputs": [
    {
     "name": "stderr",
     "output_type": "stream",
     "text": [
      "  % Total    % Received % Xferd  Average Speed   Time    Time     Time  Current\n",
      "                                 Dload  Upload   Total   Spent    Left  Speed\n",
      "\r",
      "  0     0    0     0    0     0      0      0 --:--:-- --:--:-- --:--:--     0"
     ]
    },
    {
     "name": "stdout",
     "output_type": "stream",
     "text": [
      "Order:\n",
      "\n",
      "{'endpoint': 'http://127.0.0.1:5000/cat/node/init',\n",
      " 'function_cid': 'QmPMniqGmZ28QnDwa2UJqkcWjkkaehkEKcXD47kLUVWaEd',\n",
      " 'invoice_cid': 'QmQnZ1DR9CMjcyzH5RpD9mMcg39AMyjf2mRNEwj8tPHBMJ',\n",
      " 'structure_cid': 'QmYyFroE2Nw1BVg3D1MQdeZFrMAn9XWYHgWueMUKaRGops',\n",
      " 'structure_filepath': 'main.tf'}\n",
      "\n",
      "\n",
      "curl -X POST -H \"Content-Type: application/json\" -d \\\n",
      "'{\n",
      "    \"order_cid\": \"QmSmGTZTUaFyhxdfp8uLrAWPvkREmRq1vxbnPYEVTvw2Xu\"\n",
      "}' http://127.0.0.1:5000/cat/node/init\n",
      "\n",
      "\n"
     ]
    },
    {
     "name": "stderr",
     "output_type": "stream",
     "text": [
      "\r",
      "100    63    0     0  100    63      0     52  0:00:01  0:00:01 --:--:--    52"
     ]
    },
    {
     "name": "stderr",
     "output_type": "stream",
     "text": [
      "\r",
      "100    63    0     0  100    63      0     28  0:00:02  0:00:02 --:--:--    28"
     ]
    },
    {
     "name": "stderr",
     "output_type": "stream",
     "text": [
      "\r",
      "100    63    0     0  100    63      0     19  0:00:03  0:00:03 --:--:--    19"
     ]
    },
    {
     "name": "stderr",
     "output_type": "stream",
     "text": [
      "\r",
      "100    63    0     0  100    63      0     14  0:00:04  0:00:04 --:--:--    14"
     ]
    },
    {
     "name": "stderr",
     "output_type": "stream",
     "text": [
      "\r",
      "100    63    0     0  100    63      0     12  0:00:05  0:00:05 --:--:--    12"
     ]
    },
    {
     "name": "stderr",
     "output_type": "stream",
     "text": [
      "\r",
      "100    63    0     0  100    63      0     10  0:00:06  0:00:06 --:--:--     0"
     ]
    },
    {
     "name": "stderr",
     "output_type": "stream",
     "text": [
      "\r",
      "100    63    0     0  100    63      0      8  0:00:07  0:00:07 --:--:--     0"
     ]
    },
    {
     "name": "stderr",
     "output_type": "stream",
     "text": [
      "\r",
      "100    63    0     0  100    63      0      7  0:00:09  0:00:08  0:00:01     0"
     ]
    },
    {
     "name": "stderr",
     "output_type": "stream",
     "text": [
      "\r",
      "100    63    0     0  100    63      0      6  0:00:10  0:00:09  0:00:01     0"
     ]
    },
    {
     "name": "stderr",
     "output_type": "stream",
     "text": [
      "\r",
      "100    63    0     0  100    63      0      6  0:00:10  0:00:10 --:--:--     0"
     ]
    },
    {
     "name": "stderr",
     "output_type": "stream",
     "text": [
      "\r",
      "100    63    0     0  100    63      0      5  0:00:12  0:00:11  0:00:01     0"
     ]
    },
    {
     "name": "stderr",
     "output_type": "stream",
     "text": [
      "\r",
      "100    63    0     0  100    63      0      5  0:00:12  0:00:12 --:--:--     0"
     ]
    },
    {
     "name": "stderr",
     "output_type": "stream",
     "text": [
      "\r",
      "100    63    0     0  100    63      0      4  0:00:15  0:00:13  0:00:02     0"
     ]
    },
    {
     "name": "stderr",
     "output_type": "stream",
     "text": [
      "\r",
      "100    63    0     0  100    63      0      4  0:00:15  0:00:14  0:00:01     0"
     ]
    },
    {
     "name": "stderr",
     "output_type": "stream",
     "text": [
      "\r",
      "100    63    0     0  100    63      0      4  0:00:15  0:00:15 --:--:--     0"
     ]
    },
    {
     "name": "stderr",
     "output_type": "stream",
     "text": [
      "\r",
      "100    63    0     0  100    63      0      3  0:00:21  0:00:16  0:00:05     0"
     ]
    },
    {
     "name": "stderr",
     "output_type": "stream",
     "text": [
      "\r",
      "100    63    0     0  100    63      0      3  0:00:21  0:00:17  0:00:04     0"
     ]
    },
    {
     "name": "stderr",
     "output_type": "stream",
     "text": [
      "\r",
      "100    63    0     0  100    63      0      3  0:00:21  0:00:18  0:00:03     0"
     ]
    },
    {
     "name": "stderr",
     "output_type": "stream",
     "text": [
      "\r",
      "100    63    0     0  100    63      0      3  0:00:21  0:00:19  0:00:02     0"
     ]
    },
    {
     "name": "stderr",
     "output_type": "stream",
     "text": [
      "\r",
      "100    63    0     0  100    63      0      3  0:00:21  0:00:20  0:00:01     0"
     ]
    },
    {
     "name": "stderr",
     "output_type": "stream",
     "text": [
      "\r",
      "100    63    0     0  100    63      0      2  0:00:31  0:00:21  0:00:10     0"
     ]
    },
    {
     "name": "stderr",
     "output_type": "stream",
     "text": [
      "\r",
      "100    63    0     0  100    63      0      2  0:00:31  0:00:22  0:00:09     0"
     ]
    },
    {
     "name": "stderr",
     "output_type": "stream",
     "text": [
      "\r",
      "100    63    0     0  100    63      0      2  0:00:31  0:00:23  0:00:08     0"
     ]
    },
    {
     "name": "stderr",
     "output_type": "stream",
     "text": [
      "\r",
      "100    63    0     0  100    63      0      2  0:00:31  0:00:24  0:00:07     0"
     ]
    },
    {
     "name": "stderr",
     "output_type": "stream",
     "text": [
      "\r",
      "100    63    0     0  100    63      0      2  0:00:31  0:00:25  0:00:06     0"
     ]
    },
    {
     "name": "stderr",
     "output_type": "stream",
     "text": [
      "\r",
      "100    63    0     0  100    63      0      2  0:00:31  0:00:26  0:00:05     0"
     ]
    },
    {
     "name": "stderr",
     "output_type": "stream",
     "text": [
      "\r",
      "100    63    0     0  100    63      0      2  0:00:31  0:00:27  0:00:04     0"
     ]
    },
    {
     "name": "stderr",
     "output_type": "stream",
     "text": [
      "\r",
      "100    63    0     0  100    63      0      2  0:00:31  0:00:28  0:00:03     0"
     ]
    },
    {
     "name": "stderr",
     "output_type": "stream",
     "text": [
      "\r",
      "100    63    0     0  100    63      0      2  0:00:31  0:00:29  0:00:02     0"
     ]
    },
    {
     "name": "stderr",
     "output_type": "stream",
     "text": [
      "\r",
      "100    63    0     0  100    63      0      2  0:00:31  0:00:30  0:00:01     0"
     ]
    },
    {
     "name": "stderr",
     "output_type": "stream",
     "text": [
      "\r",
      "100    63    0     0  100    63      0      2  0:00:31  0:00:31 --:--:--     0"
     ]
    },
    {
     "name": "stderr",
     "output_type": "stream",
     "text": [
      "\r",
      "100    63    0     0  100    63      0      1  0:01:03  0:00:32  0:00:31     0"
     ]
    },
    {
     "name": "stderr",
     "output_type": "stream",
     "text": [
      "\r",
      "100    63    0     0  100    63      0      1  0:01:03  0:00:33  0:00:30     0"
     ]
    },
    {
     "name": "stderr",
     "output_type": "stream",
     "text": [
      "\r",
      "100    63    0     0  100    63      0      1  0:01:03  0:00:34  0:00:29     0"
     ]
    },
    {
     "name": "stderr",
     "output_type": "stream",
     "text": [
      "\r",
      "100    63    0     0  100    63      0      1  0:01:03  0:00:35  0:00:28     0"
     ]
    },
    {
     "name": "stderr",
     "output_type": "stream",
     "text": [
      "\r",
      "100    63    0     0  100    63      0      1  0:01:03  0:00:36  0:00:27     0"
     ]
    },
    {
     "name": "stderr",
     "output_type": "stream",
     "text": [
      "\r",
      "100    63    0     0  100    63      0      1  0:01:03  0:00:37  0:00:26     0"
     ]
    },
    {
     "name": "stderr",
     "output_type": "stream",
     "text": [
      "\r",
      "100    63    0     0  100    63      0      1  0:01:03  0:00:38  0:00:25     0"
     ]
    },
    {
     "name": "stderr",
     "output_type": "stream",
     "text": [
      "\r",
      "100    63    0     0  100    63      0      1  0:01:03  0:00:39  0:00:24     0"
     ]
    },
    {
     "name": "stderr",
     "output_type": "stream",
     "text": [
      "\r",
      "100    63    0     0  100    63      0      1  0:01:03  0:00:40  0:00:23     0"
     ]
    },
    {
     "name": "stderr",
     "output_type": "stream",
     "text": [
      "\r",
      "100    63    0     0  100    63      0      1  0:01:03  0:00:41  0:00:22     0"
     ]
    },
    {
     "name": "stderr",
     "output_type": "stream",
     "text": [
      "\r",
      "100    63    0     0  100    63      0      1  0:01:03  0:00:42  0:00:21     0"
     ]
    },
    {
     "name": "stderr",
     "output_type": "stream",
     "text": [
      "\r",
      "100    63    0     0  100    63      0      1  0:01:03  0:00:43  0:00:20     0"
     ]
    },
    {
     "name": "stderr",
     "output_type": "stream",
     "text": [
      "\r",
      "100    63    0     0  100    63      0      1  0:01:03  0:00:44  0:00:19     0"
     ]
    },
    {
     "name": "stderr",
     "output_type": "stream",
     "text": [
      "\r",
      "100    63    0     0  100    63      0      1  0:01:03  0:00:45  0:00:18     0"
     ]
    },
    {
     "name": "stderr",
     "output_type": "stream",
     "text": [
      "\r",
      "100    63    0     0  100    63      0      1  0:01:03  0:00:46  0:00:17     0"
     ]
    },
    {
     "name": "stderr",
     "output_type": "stream",
     "text": [
      "\r",
      "100    63    0     0  100    63      0      1  0:01:03  0:00:47  0:00:16     0"
     ]
    },
    {
     "name": "stderr",
     "output_type": "stream",
     "text": [
      "\r",
      "100    63    0     0  100    63      0      1  0:01:03  0:00:48  0:00:15     0"
     ]
    },
    {
     "name": "stderr",
     "output_type": "stream",
     "text": [
      "\r",
      "100    63    0     0  100    63      0      1  0:01:03  0:00:49  0:00:14     0"
     ]
    },
    {
     "name": "stderr",
     "output_type": "stream",
     "text": [
      "\r",
      "100    63    0     0  100    63      0      1  0:01:03  0:00:50  0:00:13     0"
     ]
    },
    {
     "name": "stderr",
     "output_type": "stream",
     "text": [
      "\r",
      "100    63    0     0  100    63      0      1  0:01:03  0:00:51  0:00:12     0"
     ]
    },
    {
     "name": "stderr",
     "output_type": "stream",
     "text": [
      "\r",
      "100    63    0     0  100    63      0      1  0:01:03  0:00:52  0:00:11     0"
     ]
    },
    {
     "name": "stderr",
     "output_type": "stream",
     "text": [
      "\r",
      "100    63    0     0  100    63      0      1  0:01:03  0:00:53  0:00:10     0"
     ]
    },
    {
     "name": "stderr",
     "output_type": "stream",
     "text": [
      "\r",
      "100    63    0     0  100    63      0      1  0:01:03  0:00:54  0:00:09     0"
     ]
    },
    {
     "name": "stderr",
     "output_type": "stream",
     "text": [
      "\r",
      "100    63    0     0  100    63      0      1  0:01:03  0:00:55  0:00:08     0"
     ]
    },
    {
     "name": "stderr",
     "output_type": "stream",
     "text": [
      "\r",
      "100    63    0     0  100    63      0      1  0:01:03  0:00:56  0:00:07     0"
     ]
    },
    {
     "name": "stderr",
     "output_type": "stream",
     "text": [
      "\r",
      "100    63    0     0  100    63      0      1  0:01:03  0:00:57  0:00:06     0"
     ]
    },
    {
     "name": "stderr",
     "output_type": "stream",
     "text": [
      "\r",
      "100    63    0     0  100    63      0      1  0:01:03  0:00:58  0:00:05     0"
     ]
    },
    {
     "name": "stderr",
     "output_type": "stream",
     "text": [
      "\r",
      "100    63    0     0  100    63      0      1  0:01:03  0:00:59  0:00:04     0"
     ]
    },
    {
     "name": "stderr",
     "output_type": "stream",
     "text": [
      "\r",
      "100    63    0     0  100    63      0      1  0:01:03  0:01:00  0:00:03     0"
     ]
    },
    {
     "name": "stderr",
     "output_type": "stream",
     "text": [
      "\r",
      "100    63    0     0  100    63      0      1  0:01:03  0:01:01  0:00:02     0"
     ]
    },
    {
     "name": "stderr",
     "output_type": "stream",
     "text": [
      "\r",
      "100    63    0     0  100    63      0      1  0:01:03  0:01:02  0:00:01     0"
     ]
    },
    {
     "name": "stderr",
     "output_type": "stream",
     "text": [
      "\r",
      "100    63    0     0    0    63      0      0 --:--:--  0:01:03 --:--:--     0"
     ]
    },
    {
     "name": "stderr",
     "output_type": "stream",
     "text": [
      "\r",
      "100    63    0     0    0    63      0      0 --:--:--  0:01:04 --:--:--     0"
     ]
    },
    {
     "name": "stderr",
     "output_type": "stream",
     "text": [
      "\r",
      "100    63    0     0    0    63      0      0 --:--:--  0:01:05 --:--:--     0"
     ]
    },
    {
     "name": "stderr",
     "output_type": "stream",
     "text": [
      "\r",
      "100    63    0     0    0    63      0      0 --:--:--  0:01:06 --:--:--     0"
     ]
    },
    {
     "name": "stderr",
     "output_type": "stream",
     "text": [
      "\r",
      "100    63    0     0    0    63      0      0 --:--:--  0:01:07 --:--:--     0"
     ]
    },
    {
     "name": "stderr",
     "output_type": "stream",
     "text": [
      "\r",
      "100    63    0     0    0    63      0      0 --:--:--  0:01:08 --:--:--     0"
     ]
    },
    {
     "name": "stderr",
     "output_type": "stream",
     "text": [
      "\r",
      "100    63    0     0    0    63      0      0 --:--:--  0:01:09 --:--:--     0"
     ]
    },
    {
     "name": "stderr",
     "output_type": "stream",
     "text": [
      "\r",
      "100    63    0     0    0    63      0      0 --:--:--  0:01:10 --:--:--     0"
     ]
    },
    {
     "name": "stderr",
     "output_type": "stream",
     "text": [
      "\r",
      "100    63    0     0    0    63      0      0 --:--:--  0:01:11 --:--:--     0"
     ]
    },
    {
     "name": "stderr",
     "output_type": "stream",
     "text": [
      "\r",
      "100    63    0     0    0    63      0      0 --:--:--  0:01:12 --:--:--     0"
     ]
    },
    {
     "name": "stderr",
     "output_type": "stream",
     "text": [
      "\r",
      "100    63    0     0    0    63      0      0 --:--:--  0:01:13 --:--:--     0"
     ]
    },
    {
     "name": "stderr",
     "output_type": "stream",
     "text": [
      "\r",
      "100    63    0     0    0    63      0      0 --:--:--  0:01:14 --:--:--     0"
     ]
    },
    {
     "name": "stderr",
     "output_type": "stream",
     "text": [
      "\r",
      "100    63    0     0    0    63      0      0 --:--:--  0:01:15 --:--:--     0"
     ]
    },
    {
     "name": "stderr",
     "output_type": "stream",
     "text": [
      "\r",
      "100    63    0     0    0    63      0      0 --:--:--  0:01:16 --:--:--     0"
     ]
    },
    {
     "name": "stderr",
     "output_type": "stream",
     "text": [
      "\r",
      "100    63    0     0    0    63      0      0 --:--:--  0:01:17 --:--:--     0"
     ]
    },
    {
     "name": "stderr",
     "output_type": "stream",
     "text": [
      "\r",
      "100    63    0     0    0    63      0      0 --:--:--  0:01:18 --:--:--     0"
     ]
    },
    {
     "name": "stderr",
     "output_type": "stream",
     "text": [
      "\r",
      "100    63    0     0    0    63      0      0 --:--:--  0:01:19 --:--:--     0"
     ]
    },
    {
     "name": "stderr",
     "output_type": "stream",
     "text": [
      "\r",
      "100    63    0     0    0    63      0      0 --:--:--  0:01:20 --:--:--     0"
     ]
    },
    {
     "name": "stderr",
     "output_type": "stream",
     "text": [
      "\r",
      "100    63    0     0    0    63      0      0 --:--:--  0:01:21 --:--:--     0"
     ]
    },
    {
     "name": "stderr",
     "output_type": "stream",
     "text": [
      "\r",
      "100    63    0     0    0    63      0      0 --:--:--  0:01:22 --:--:--     0"
     ]
    },
    {
     "name": "stderr",
     "output_type": "stream",
     "text": [
      "\r",
      "100    63    0     0    0    63      0      0 --:--:--  0:01:23 --:--:--     0"
     ]
    },
    {
     "name": "stderr",
     "output_type": "stream",
     "text": [
      "\r",
      "100    63    0     0    0    63      0      0 --:--:--  0:01:24 --:--:--     0"
     ]
    },
    {
     "name": "stderr",
     "output_type": "stream",
     "text": [
      "\r",
      "100    63    0     0    0    63      0      0 --:--:--  0:01:25 --:--:--     0"
     ]
    },
    {
     "name": "stderr",
     "output_type": "stream",
     "text": [
      "\r",
      "100    63    0     0    0    63      0      0 --:--:--  0:01:26 --:--:--     0"
     ]
    },
    {
     "name": "stderr",
     "output_type": "stream",
     "text": [
      "\r",
      "100    63    0     0    0    63      0      0 --:--:--  0:01:27 --:--:--     0"
     ]
    },
    {
     "name": "stderr",
     "output_type": "stream",
     "text": [
      "\r",
      "100    63    0     0    0    63      0      0 --:--:--  0:01:28 --:--:--     0"
     ]
    },
    {
     "name": "stderr",
     "output_type": "stream",
     "text": [
      "\r",
      "100    63    0     0    0    63      0      0 --:--:--  0:01:29 --:--:--     0"
     ]
    },
    {
     "name": "stderr",
     "output_type": "stream",
     "text": [
      "\r",
      "100    63    0     0    0    63      0      0 --:--:--  0:01:30 --:--:--     0"
     ]
    },
    {
     "name": "stderr",
     "output_type": "stream",
     "text": [
      "\r",
      "100    63    0     0    0    63      0      0 --:--:--  0:01:31 --:--:--     0"
     ]
    },
    {
     "name": "stderr",
     "output_type": "stream",
     "text": [
      "\r",
      "100    63    0     0    0    63      0      0 --:--:--  0:01:32 --:--:--     0"
     ]
    },
    {
     "name": "stderr",
     "output_type": "stream",
     "text": [
      "\r",
      "100    63    0     0    0    63      0      0 --:--:--  0:01:33 --:--:--     0"
     ]
    },
    {
     "name": "stderr",
     "output_type": "stream",
     "text": [
      "\r",
      "100    63    0     0    0    63      0      0 --:--:--  0:01:34 --:--:--     0"
     ]
    },
    {
     "name": "stderr",
     "output_type": "stream",
     "text": [
      "\r",
      "100    63    0     0    0    63      0      0 --:--:--  0:01:35 --:--:--     0"
     ]
    },
    {
     "name": "stderr",
     "output_type": "stream",
     "text": [
      "\r",
      "100    63    0     0    0    63      0      0 --:--:--  0:01:36 --:--:--     0"
     ]
    },
    {
     "name": "stderr",
     "output_type": "stream",
     "text": [
      "\r",
      "100    63    0     0    0    63      0      0 --:--:--  0:01:37 --:--:--     0\r",
      "100   278  100   215    0    63      2      0  0:01:47  0:01:37  0:00:10    53\n"
     ]
    },
    {
     "name": "stdout",
     "output_type": "stream",
     "text": [
      "{'POST': 'curl -X POST -H \"Content-Type: application/json\" -d \\'{\"order_cid\": '\n",
      "         '\"QmSmGTZTUaFyhxdfp8uLrAWPvkREmRq1vxbnPYEVTvw2Xu\"}\\' '\n",
      "         'http://127.0.0.1:5000/cat/node/init',\n",
      " 'bom': {'invoice_cid': 'QmSuQ9q1oM4qNNuAgD2sFg9qrZy54AgPuEy5tNYtP5GZCm',\n",
      "         'log_cid': 'QmbeGzjqvn3PKQoW2xc8BhimaHupTHaVShSYQdA4oMpFUq'},\n",
      " 'bom_cid': 'QmRJLAaYGnkVbX1Dy1wqDQakj6PQvY8g6TyKhL6o1t6snd',\n",
      " 'flat_bom': {'invoice': {'data_cid': 'QmRchhpqP2Y9YJUJ2s16s4GTt4j8eGwgMjJ29R16ux5dGJ',\n",
      "                          'order': {'endpoint': 'http://127.0.0.1:5000/cat/node/init',\n",
      "                                    'flat': {'function': {'infrafunction_cid': None,\n",
      "                                                          'process_cid': 'QmXqKpSVBuoZD2QG8hT3tTF8ai6cHV8iTHt2tF5sM3scmc'},\n",
      "                                             'invoice': {'data_cid': 'QmQpyDtFsz2JLNTSrPRzLs1tzPrfBxYbCw6kehVWqUXLVN'}},\n",
      "                                    'function_cid': 'QmPMniqGmZ28QnDwa2UJqkcWjkkaehkEKcXD47kLUVWaEd',\n",
      "                                    'invoice_cid': 'QmQnZ1DR9CMjcyzH5RpD9mMcg39AMyjf2mRNEwj8tPHBMJ',\n",
      "                                    'structure_cid': 'QmYyFroE2Nw1BVg3D1MQdeZFrMAn9XWYHgWueMUKaRGops',\n",
      "                                    'structure_filepath': 'main.tf'},\n",
      "                          'order_cid': 'QmSmGTZTUaFyhxdfp8uLrAWPvkREmRq1vxbnPYEVTvw2Xu',\n",
      "                          'seed_cid': None},\n",
      "              'log': {'egress_job_id': '4c425661-5a37-490c-9837-8f2f29cc7ef3',\n",
      "                      'ingress_job_id': '6cf7b3fa-fcb3-4ef6-9c82-abde9f1fe382',\n",
      "                      'integration_output': 's3://catstore3/boms/result-20240123-6cf7b3fa-fcb3-4ef6-9c82-abde9f1fe382-integrated'}}}\n"
     ]
    }
   ],
   "source": [
    "cat_invoiced_response_0 = service.catSubmit(cat_order_request_0)\n",
    "# pprint(cat_invoiced_response_0)\n",
    "flat_cat_invoiced_response_0 = service.flatten_bom(cat_invoiced_response_0)\n",
    "pprint(flat_cat_invoiced_response_0)"
   ]
  },
  {
   "cell_type": "markdown",
   "id": "d8fc148d-daf4-4657-91fa-1d0a32ce218f",
   "metadata": {},
   "source": [
    "### Execute CAT1:\n",
    "Compose a modified CAT Order request that executes CAT1 with CAT0's Structure a new Process"
   ]
  },
  {
   "cell_type": "code",
   "execution_count": 5,
   "id": "b4ef2988-34fa-4b25-8975-360be65f0b35",
   "metadata": {
    "execution": {
     "iopub.execute_input": "2024-01-23T18:23:52.046044Z",
     "iopub.status.busy": "2024-01-23T18:23:52.045375Z",
     "iopub.status.idle": "2024-01-23T18:23:52.269494Z",
     "shell.execute_reply": "2024-01-23T18:23:52.268671Z"
    }
   },
   "outputs": [
    {
     "name": "stdout",
     "output_type": "stream",
     "text": [
      "{'order_cid': 'QmaJ3zTTTEhchvHsiHkjsrSN2NMKikVguiSrtSnTZp65jX'}\n"
     ]
    }
   ],
   "source": [
    "cat_order_request_1 = service.linkProcess(cat_invoiced_response_0, process_1)\n",
    "pprint(cat_order_request_1)"
   ]
  },
  {
   "cell_type": "markdown",
   "id": "50b9f1e1-3704-471f-8ea9-0a58341a17ea",
   "metadata": {},
   "source": [
    "##### Submit modified CAT Order request to CAT Node"
   ]
  },
  {
   "cell_type": "code",
   "execution_count": 6,
   "id": "695a1368-5120-409d-8216-602cb82bd052",
   "metadata": {
    "execution": {
     "iopub.execute_input": "2024-01-23T18:23:52.273075Z",
     "iopub.status.busy": "2024-01-23T18:23:52.272845Z",
     "iopub.status.idle": "2024-01-23T18:26:27.447433Z",
     "shell.execute_reply": "2024-01-23T18:26:27.446654Z"
    }
   },
   "outputs": [
    {
     "name": "stdout",
     "output_type": "stream",
     "text": [
      "Order:\n",
      "\n",
      "{'endpoint': 'http://127.0.0.1:5000/cat/node/link',\n",
      " 'function_cid': 'QmXoU3V8JWvHm12rbsm4czhQAS1k47ESY5Uto1Pqekb87q',\n",
      " 'invoice_cid': 'QmPMWojSJabeggY9oBYRwzhxpnYaftsqY1Cz2iK6pLYxoP',\n",
      " 'structure_cid': 'QmYyFroE2Nw1BVg3D1MQdeZFrMAn9XWYHgWueMUKaRGops',\n",
      " 'structure_filepath': 'main.tf'}\n",
      "\n",
      "\n",
      "curl -X POST -H \"Content-Type: application/json\" -d \\\n",
      "'{\n",
      "    \"order_cid\": \"QmaJ3zTTTEhchvHsiHkjsrSN2NMKikVguiSrtSnTZp65jX\"\n",
      "}' http://127.0.0.1:5000/cat/node/link\n",
      "\n",
      "\n"
     ]
    },
    {
     "name": "stderr",
     "output_type": "stream",
     "text": [
      "  % Total    % Received % Xferd  Average Speed   Time    Time     Time  Current\n",
      "                                 Dload  Upload   Total   Spent    Left  Speed\n",
      "\r",
      "  0     0    0     0    0     0      0      0 --:--:-- --:--:-- --:--:--     0"
     ]
    },
    {
     "name": "stderr",
     "output_type": "stream",
     "text": [
      "\r",
      "100    63    0     0  100    63      0     52  0:00:01  0:00:01 --:--:--    52"
     ]
    },
    {
     "name": "stderr",
     "output_type": "stream",
     "text": [
      "\r",
      "100    63    0     0  100    63      0     28  0:00:02  0:00:02 --:--:--    28"
     ]
    },
    {
     "name": "stderr",
     "output_type": "stream",
     "text": [
      "\r",
      "100    63    0     0  100    63      0     19  0:00:03  0:00:03 --:--:--    19"
     ]
    },
    {
     "name": "stderr",
     "output_type": "stream",
     "text": [
      "\r",
      "100    63    0     0  100    63      0     14  0:00:04  0:00:04 --:--:--    14"
     ]
    },
    {
     "name": "stderr",
     "output_type": "stream",
     "text": [
      "\r",
      "100    63    0     0  100    63      0     12  0:00:05  0:00:05 --:--:--    12"
     ]
    },
    {
     "name": "stderr",
     "output_type": "stream",
     "text": [
      "\r",
      "100    63    0     0  100    63      0     10  0:00:06  0:00:06 --:--:--     0"
     ]
    },
    {
     "name": "stderr",
     "output_type": "stream",
     "text": [
      "\r",
      "100    63    0     0  100    63      0      8  0:00:07  0:00:07 --:--:--     0"
     ]
    },
    {
     "name": "stderr",
     "output_type": "stream",
     "text": [
      "\r",
      "100    63    0     0  100    63      0      7  0:00:09  0:00:08  0:00:01     0"
     ]
    },
    {
     "name": "stderr",
     "output_type": "stream",
     "text": [
      "\r",
      "100    63    0     0  100    63      0      6  0:00:10  0:00:09  0:00:01     0"
     ]
    },
    {
     "name": "stderr",
     "output_type": "stream",
     "text": [
      "\r",
      "100    63    0     0  100    63      0      6  0:00:10  0:00:10 --:--:--     0"
     ]
    },
    {
     "name": "stderr",
     "output_type": "stream",
     "text": [
      "\r",
      "100    63    0     0  100    63      0      5  0:00:12  0:00:11  0:00:01     0"
     ]
    },
    {
     "name": "stderr",
     "output_type": "stream",
     "text": [
      "\r",
      "100    63    0     0  100    63      0      5  0:00:12  0:00:12 --:--:--     0"
     ]
    },
    {
     "name": "stderr",
     "output_type": "stream",
     "text": [
      "\r",
      "100    63    0     0  100    63      0      4  0:00:15  0:00:13  0:00:02     0"
     ]
    },
    {
     "name": "stderr",
     "output_type": "stream",
     "text": [
      "\r",
      "100    63    0     0  100    63      0      4  0:00:15  0:00:14  0:00:01     0"
     ]
    },
    {
     "name": "stderr",
     "output_type": "stream",
     "text": [
      "\r",
      "100    63    0     0  100    63      0      4  0:00:15  0:00:15 --:--:--     0"
     ]
    },
    {
     "name": "stderr",
     "output_type": "stream",
     "text": [
      "\r",
      "100    63    0     0  100    63      0      3  0:00:21  0:00:16  0:00:05     0"
     ]
    },
    {
     "name": "stderr",
     "output_type": "stream",
     "text": [
      "\r",
      "100    63    0     0  100    63      0      3  0:00:21  0:00:17  0:00:04     0"
     ]
    },
    {
     "name": "stderr",
     "output_type": "stream",
     "text": [
      "\r",
      "100    63    0     0  100    63      0      3  0:00:21  0:00:18  0:00:03     0"
     ]
    },
    {
     "name": "stderr",
     "output_type": "stream",
     "text": [
      "\r",
      "100    63    0     0  100    63      0      3  0:00:21  0:00:19  0:00:02     0"
     ]
    },
    {
     "name": "stderr",
     "output_type": "stream",
     "text": [
      "\r",
      "100    63    0     0  100    63      0      3  0:00:21  0:00:20  0:00:01     0"
     ]
    },
    {
     "name": "stderr",
     "output_type": "stream",
     "text": [
      "\r",
      "100    63    0     0  100    63      0      2  0:00:31  0:00:21  0:00:10     0"
     ]
    },
    {
     "name": "stderr",
     "output_type": "stream",
     "text": [
      "\r",
      "100    63    0     0  100    63      0      2  0:00:31  0:00:22  0:00:09     0"
     ]
    },
    {
     "name": "stderr",
     "output_type": "stream",
     "text": [
      "\r",
      "100    63    0     0  100    63      0      2  0:00:31  0:00:23  0:00:08     0"
     ]
    },
    {
     "name": "stderr",
     "output_type": "stream",
     "text": [
      "\r",
      "100    63    0     0  100    63      0      2  0:00:31  0:00:24  0:00:07     0"
     ]
    },
    {
     "name": "stderr",
     "output_type": "stream",
     "text": [
      "\r",
      "100    63    0     0  100    63      0      2  0:00:31  0:00:25  0:00:06     0"
     ]
    },
    {
     "name": "stderr",
     "output_type": "stream",
     "text": [
      "\r",
      "100    63    0     0  100    63      0      2  0:00:31  0:00:26  0:00:05     0"
     ]
    },
    {
     "name": "stderr",
     "output_type": "stream",
     "text": [
      "\r",
      "100    63    0     0  100    63      0      2  0:00:31  0:00:27  0:00:04     0"
     ]
    },
    {
     "name": "stderr",
     "output_type": "stream",
     "text": [
      "\r",
      "100    63    0     0  100    63      0      2  0:00:31  0:00:28  0:00:03     0"
     ]
    },
    {
     "name": "stderr",
     "output_type": "stream",
     "text": [
      "\r",
      "100    63    0     0  100    63      0      2  0:00:31  0:00:29  0:00:02     0"
     ]
    },
    {
     "name": "stderr",
     "output_type": "stream",
     "text": [
      "\r",
      "100    63    0     0  100    63      0      2  0:00:31  0:00:30  0:00:01     0"
     ]
    },
    {
     "name": "stderr",
     "output_type": "stream",
     "text": [
      "\r",
      "100    63    0     0  100    63      0      2  0:00:31  0:00:31 --:--:--     0"
     ]
    },
    {
     "name": "stderr",
     "output_type": "stream",
     "text": [
      "\r",
      "100    63    0     0  100    63      0      1  0:01:03  0:00:32  0:00:31     0"
     ]
    },
    {
     "name": "stderr",
     "output_type": "stream",
     "text": [
      "\r",
      "100    63    0     0  100    63      0      1  0:01:03  0:00:33  0:00:30     0"
     ]
    },
    {
     "name": "stderr",
     "output_type": "stream",
     "text": [
      "\r",
      "100    63    0     0  100    63      0      1  0:01:03  0:00:34  0:00:29     0"
     ]
    },
    {
     "name": "stderr",
     "output_type": "stream",
     "text": [
      "\r",
      "100    63    0     0  100    63      0      1  0:01:03  0:00:35  0:00:28     0"
     ]
    },
    {
     "name": "stderr",
     "output_type": "stream",
     "text": [
      "\r",
      "100    63    0     0  100    63      0      1  0:01:03  0:00:36  0:00:27     0"
     ]
    },
    {
     "name": "stderr",
     "output_type": "stream",
     "text": [
      "\r",
      "100    63    0     0  100    63      0      1  0:01:03  0:00:37  0:00:26     0"
     ]
    },
    {
     "name": "stderr",
     "output_type": "stream",
     "text": [
      "\r",
      "100    63    0     0  100    63      0      1  0:01:03  0:00:38  0:00:25     0"
     ]
    },
    {
     "name": "stderr",
     "output_type": "stream",
     "text": [
      "\r",
      "100    63    0     0  100    63      0      1  0:01:03  0:00:39  0:00:24     0"
     ]
    },
    {
     "name": "stderr",
     "output_type": "stream",
     "text": [
      "\r",
      "100    63    0     0  100    63      0      1  0:01:03  0:00:40  0:00:23     0"
     ]
    },
    {
     "name": "stderr",
     "output_type": "stream",
     "text": [
      "\r",
      "100    63    0     0  100    63      0      1  0:01:03  0:00:41  0:00:22     0"
     ]
    },
    {
     "name": "stderr",
     "output_type": "stream",
     "text": [
      "\r",
      "100    63    0     0  100    63      0      1  0:01:03  0:00:42  0:00:21     0"
     ]
    },
    {
     "name": "stderr",
     "output_type": "stream",
     "text": [
      "\r",
      "100    63    0     0  100    63      0      1  0:01:03  0:00:43  0:00:20     0"
     ]
    },
    {
     "name": "stderr",
     "output_type": "stream",
     "text": [
      "\r",
      "100    63    0     0  100    63      0      1  0:01:03  0:00:44  0:00:19     0"
     ]
    },
    {
     "name": "stderr",
     "output_type": "stream",
     "text": [
      "\r",
      "100    63    0     0  100    63      0      1  0:01:03  0:00:45  0:00:18     0"
     ]
    },
    {
     "name": "stderr",
     "output_type": "stream",
     "text": [
      "\r",
      "100    63    0     0  100    63      0      1  0:01:03  0:00:46  0:00:17     0"
     ]
    },
    {
     "name": "stderr",
     "output_type": "stream",
     "text": [
      "\r",
      "100    63    0     0  100    63      0      1  0:01:03  0:00:47  0:00:16     0"
     ]
    },
    {
     "name": "stderr",
     "output_type": "stream",
     "text": [
      "\r",
      "100    63    0     0  100    63      0      1  0:01:03  0:00:48  0:00:15     0"
     ]
    },
    {
     "name": "stderr",
     "output_type": "stream",
     "text": [
      "\r",
      "100    63    0     0  100    63      0      1  0:01:03  0:00:49  0:00:14     0"
     ]
    },
    {
     "name": "stderr",
     "output_type": "stream",
     "text": [
      "\r",
      "100    63    0     0  100    63      0      1  0:01:03  0:00:50  0:00:13     0"
     ]
    },
    {
     "name": "stderr",
     "output_type": "stream",
     "text": [
      "\r",
      "100    63    0     0  100    63      0      1  0:01:03  0:00:51  0:00:12     0"
     ]
    },
    {
     "name": "stderr",
     "output_type": "stream",
     "text": [
      "\r",
      "100    63    0     0  100    63      0      1  0:01:03  0:00:52  0:00:11     0"
     ]
    },
    {
     "name": "stderr",
     "output_type": "stream",
     "text": [
      "\r",
      "100    63    0     0  100    63      0      1  0:01:03  0:00:53  0:00:10     0"
     ]
    },
    {
     "name": "stderr",
     "output_type": "stream",
     "text": [
      "\r",
      "100    63    0     0  100    63      0      1  0:01:03  0:00:54  0:00:09     0"
     ]
    },
    {
     "name": "stderr",
     "output_type": "stream",
     "text": [
      "\r",
      "100    63    0     0  100    63      0      1  0:01:03  0:00:55  0:00:08     0"
     ]
    },
    {
     "name": "stderr",
     "output_type": "stream",
     "text": [
      "\r",
      "100    63    0     0  100    63      0      1  0:01:03  0:00:56  0:00:07     0"
     ]
    },
    {
     "name": "stderr",
     "output_type": "stream",
     "text": [
      "\r",
      "100    63    0     0  100    63      0      1  0:01:03  0:00:57  0:00:06     0"
     ]
    },
    {
     "name": "stderr",
     "output_type": "stream",
     "text": [
      "\r",
      "100    63    0     0  100    63      0      1  0:01:03  0:00:58  0:00:05     0"
     ]
    },
    {
     "name": "stderr",
     "output_type": "stream",
     "text": [
      "\r",
      "100    63    0     0  100    63      0      1  0:01:03  0:00:59  0:00:04     0"
     ]
    },
    {
     "name": "stderr",
     "output_type": "stream",
     "text": [
      "\r",
      "100    63    0     0  100    63      0      1  0:01:03  0:01:00  0:00:03     0"
     ]
    },
    {
     "name": "stderr",
     "output_type": "stream",
     "text": [
      "\r",
      "100    63    0     0  100    63      0      1  0:01:03  0:01:01  0:00:02     0"
     ]
    },
    {
     "name": "stderr",
     "output_type": "stream",
     "text": [
      "\r",
      "100    63    0     0  100    63      0      1  0:01:03  0:01:02  0:00:01     0"
     ]
    },
    {
     "name": "stderr",
     "output_type": "stream",
     "text": [
      "\r",
      "100    63    0     0    0    63      0      0 --:--:--  0:01:03 --:--:--     0"
     ]
    },
    {
     "name": "stderr",
     "output_type": "stream",
     "text": [
      "\r",
      "100    63    0     0    0    63      0      0 --:--:--  0:01:04 --:--:--     0"
     ]
    },
    {
     "name": "stderr",
     "output_type": "stream",
     "text": [
      "\r",
      "100    63    0     0    0    63      0      0 --:--:--  0:01:05 --:--:--     0"
     ]
    },
    {
     "name": "stderr",
     "output_type": "stream",
     "text": [
      "\r",
      "100    63    0     0    0    63      0      0 --:--:--  0:01:06 --:--:--     0"
     ]
    },
    {
     "name": "stderr",
     "output_type": "stream",
     "text": [
      "\r",
      "100    63    0     0    0    63      0      0 --:--:--  0:01:07 --:--:--     0"
     ]
    },
    {
     "name": "stderr",
     "output_type": "stream",
     "text": [
      "\r",
      "100    63    0     0    0    63      0      0 --:--:--  0:01:08 --:--:--     0"
     ]
    },
    {
     "name": "stderr",
     "output_type": "stream",
     "text": [
      "\r",
      "100    63    0     0    0    63      0      0 --:--:--  0:01:09 --:--:--     0"
     ]
    },
    {
     "name": "stderr",
     "output_type": "stream",
     "text": [
      "\r",
      "100    63    0     0    0    63      0      0 --:--:--  0:01:10 --:--:--     0"
     ]
    },
    {
     "name": "stderr",
     "output_type": "stream",
     "text": [
      "\r",
      "100    63    0     0    0    63      0      0 --:--:--  0:01:11 --:--:--     0"
     ]
    },
    {
     "name": "stderr",
     "output_type": "stream",
     "text": [
      "\r",
      "100    63    0     0    0    63      0      0 --:--:--  0:01:12 --:--:--     0"
     ]
    },
    {
     "name": "stderr",
     "output_type": "stream",
     "text": [
      "\r",
      "100    63    0     0    0    63      0      0 --:--:--  0:01:13 --:--:--     0"
     ]
    },
    {
     "name": "stderr",
     "output_type": "stream",
     "text": [
      "\r",
      "100    63    0     0    0    63      0      0 --:--:--  0:01:14 --:--:--     0"
     ]
    },
    {
     "name": "stderr",
     "output_type": "stream",
     "text": [
      "\r",
      "100    63    0     0    0    63      0      0 --:--:--  0:01:15 --:--:--     0"
     ]
    },
    {
     "name": "stderr",
     "output_type": "stream",
     "text": [
      "\r",
      "100    63    0     0    0    63      0      0 --:--:--  0:01:16 --:--:--     0"
     ]
    },
    {
     "name": "stderr",
     "output_type": "stream",
     "text": [
      "\r",
      "100    63    0     0    0    63      0      0 --:--:--  0:01:17 --:--:--     0"
     ]
    },
    {
     "name": "stderr",
     "output_type": "stream",
     "text": [
      "\r",
      "100    63    0     0    0    63      0      0 --:--:--  0:01:18 --:--:--     0"
     ]
    },
    {
     "name": "stderr",
     "output_type": "stream",
     "text": [
      "\r",
      "100    63    0     0    0    63      0      0 --:--:--  0:01:19 --:--:--     0"
     ]
    },
    {
     "name": "stderr",
     "output_type": "stream",
     "text": [
      "\r",
      "100    63    0     0    0    63      0      0 --:--:--  0:01:20 --:--:--     0"
     ]
    },
    {
     "name": "stderr",
     "output_type": "stream",
     "text": [
      "\r",
      "100    63    0     0    0    63      0      0 --:--:--  0:01:21 --:--:--     0"
     ]
    },
    {
     "name": "stderr",
     "output_type": "stream",
     "text": [
      "\r",
      "100    63    0     0    0    63      0      0 --:--:--  0:01:22 --:--:--     0"
     ]
    },
    {
     "name": "stderr",
     "output_type": "stream",
     "text": [
      "\r",
      "100    63    0     0    0    63      0      0 --:--:--  0:01:23 --:--:--     0"
     ]
    },
    {
     "name": "stderr",
     "output_type": "stream",
     "text": [
      "\r",
      "100    63    0     0    0    63      0      0 --:--:--  0:01:24 --:--:--     0"
     ]
    },
    {
     "name": "stderr",
     "output_type": "stream",
     "text": [
      "\r",
      "100    63    0     0    0    63      0      0 --:--:--  0:01:25 --:--:--     0"
     ]
    },
    {
     "name": "stderr",
     "output_type": "stream",
     "text": [
      "\r",
      "100    63    0     0    0    63      0      0 --:--:--  0:01:26 --:--:--     0"
     ]
    },
    {
     "name": "stderr",
     "output_type": "stream",
     "text": [
      "\r",
      "100    63    0     0    0    63      0      0 --:--:--  0:01:27 --:--:--     0"
     ]
    },
    {
     "name": "stderr",
     "output_type": "stream",
     "text": [
      "\r",
      "100    63    0     0    0    63      0      0 --:--:--  0:01:28 --:--:--     0"
     ]
    },
    {
     "name": "stderr",
     "output_type": "stream",
     "text": [
      "\r",
      "100    63    0     0    0    63      0      0 --:--:--  0:01:29 --:--:--     0"
     ]
    },
    {
     "name": "stderr",
     "output_type": "stream",
     "text": [
      "\r",
      "100    63    0     0    0    63      0      0 --:--:--  0:01:30 --:--:--     0"
     ]
    },
    {
     "name": "stderr",
     "output_type": "stream",
     "text": [
      "\r",
      "100    63    0     0    0    63      0      0 --:--:--  0:01:31 --:--:--     0"
     ]
    },
    {
     "name": "stderr",
     "output_type": "stream",
     "text": [
      "\r",
      "100    63    0     0    0    63      0      0 --:--:--  0:01:32 --:--:--     0"
     ]
    },
    {
     "name": "stderr",
     "output_type": "stream",
     "text": [
      "\r",
      "100    63    0     0    0    63      0      0 --:--:--  0:01:33 --:--:--     0"
     ]
    },
    {
     "name": "stderr",
     "output_type": "stream",
     "text": [
      "\r",
      "100    63    0     0    0    63      0      0 --:--:--  0:01:34 --:--:--     0"
     ]
    },
    {
     "name": "stderr",
     "output_type": "stream",
     "text": [
      "\r",
      "100    63    0     0    0    63      0      0 --:--:--  0:01:35 --:--:--     0"
     ]
    },
    {
     "name": "stderr",
     "output_type": "stream",
     "text": [
      "\r",
      "100    63    0     0    0    63      0      0 --:--:--  0:01:36 --:--:--     0"
     ]
    },
    {
     "name": "stderr",
     "output_type": "stream",
     "text": [
      "\r",
      "100    63    0     0    0    63      0      0 --:--:--  0:01:37 --:--:--     0"
     ]
    },
    {
     "name": "stderr",
     "output_type": "stream",
     "text": [
      "\r",
      "100    63    0     0    0    63      0      0 --:--:--  0:01:38 --:--:--     0"
     ]
    },
    {
     "name": "stderr",
     "output_type": "stream",
     "text": [
      "\r",
      "100    63    0     0    0    63      0      0 --:--:--  0:01:39 --:--:--     0"
     ]
    },
    {
     "name": "stderr",
     "output_type": "stream",
     "text": [
      "\r",
      "100    63    0     0    0    63      0      0 --:--:--  0:01:40 --:--:--     0"
     ]
    },
    {
     "name": "stderr",
     "output_type": "stream",
     "text": [
      "\r",
      "100    63    0     0    0    63      0      0 --:--:--  0:01:41 --:--:--     0"
     ]
    },
    {
     "name": "stderr",
     "output_type": "stream",
     "text": [
      "\r",
      "100    63    0     0    0    63      0      0 --:--:--  0:01:42 --:--:--     0"
     ]
    },
    {
     "name": "stderr",
     "output_type": "stream",
     "text": [
      "\r",
      "100    63    0     0    0    63      0      0 --:--:--  0:01:43 --:--:--     0"
     ]
    },
    {
     "name": "stderr",
     "output_type": "stream",
     "text": [
      "\r",
      "100    63    0     0    0    63      0      0 --:--:--  0:01:44 --:--:--     0"
     ]
    },
    {
     "name": "stderr",
     "output_type": "stream",
     "text": [
      "\r",
      "100    63    0     0    0    63      0      0 --:--:--  0:01:45 --:--:--     0"
     ]
    },
    {
     "name": "stderr",
     "output_type": "stream",
     "text": [
      "\r",
      "100    63    0     0    0    63      0      0 --:--:--  0:01:46 --:--:--     0"
     ]
    },
    {
     "name": "stderr",
     "output_type": "stream",
     "text": [
      "\r",
      "100    63    0     0    0    63      0      0 --:--:--  0:01:47 --:--:--     0"
     ]
    },
    {
     "name": "stderr",
     "output_type": "stream",
     "text": [
      "\r",
      "100    63    0     0    0    63      0      0 --:--:--  0:01:48 --:--:--     0"
     ]
    },
    {
     "name": "stderr",
     "output_type": "stream",
     "text": [
      "\r",
      "100    63    0     0    0    63      0      0 --:--:--  0:01:49 --:--:--     0"
     ]
    },
    {
     "name": "stderr",
     "output_type": "stream",
     "text": [
      "\r",
      "100    63    0     0    0    63      0      0 --:--:--  0:01:50 --:--:--     0"
     ]
    },
    {
     "name": "stderr",
     "output_type": "stream",
     "text": [
      "\r",
      "100    63    0     0    0    63      0      0 --:--:--  0:01:51 --:--:--     0"
     ]
    },
    {
     "name": "stderr",
     "output_type": "stream",
     "text": [
      "\r",
      "100    63    0     0    0    63      0      0 --:--:--  0:01:52 --:--:--     0"
     ]
    },
    {
     "name": "stderr",
     "output_type": "stream",
     "text": [
      "\r",
      "100    63    0     0    0    63      0      0 --:--:--  0:01:53 --:--:--     0"
     ]
    },
    {
     "name": "stderr",
     "output_type": "stream",
     "text": [
      "\r",
      "100    63    0     0    0    63      0      0 --:--:--  0:01:54 --:--:--     0"
     ]
    },
    {
     "name": "stderr",
     "output_type": "stream",
     "text": [
      "\r",
      "100    63    0     0    0    63      0      0 --:--:--  0:01:55 --:--:--     0"
     ]
    },
    {
     "name": "stderr",
     "output_type": "stream",
     "text": [
      "\r",
      "100    63    0     0    0    63      0      0 --:--:--  0:01:56 --:--:--     0"
     ]
    },
    {
     "name": "stderr",
     "output_type": "stream",
     "text": [
      "\r",
      "100    63    0     0    0    63      0      0 --:--:--  0:01:57 --:--:--     0"
     ]
    },
    {
     "name": "stderr",
     "output_type": "stream",
     "text": [
      "\r",
      "100    63    0     0    0    63      0      0 --:--:--  0:01:58 --:--:--     0"
     ]
    },
    {
     "name": "stderr",
     "output_type": "stream",
     "text": [
      "\r",
      "100    63    0     0    0    63      0      0 --:--:--  0:01:59 --:--:--     0"
     ]
    },
    {
     "name": "stderr",
     "output_type": "stream",
     "text": [
      "\r",
      "100    63    0     0    0    63      0      0 --:--:--  0:02:00 --:--:--     0"
     ]
    },
    {
     "name": "stderr",
     "output_type": "stream",
     "text": [
      "\r",
      "100    63    0     0    0    63      0      0 --:--:--  0:02:01 --:--:--     0"
     ]
    },
    {
     "name": "stderr",
     "output_type": "stream",
     "text": [
      "\r",
      "100    63    0     0    0    63      0      0 --:--:--  0:02:02 --:--:--     0"
     ]
    },
    {
     "name": "stderr",
     "output_type": "stream",
     "text": [
      "\r",
      "100    63    0     0    0    63      0      0 --:--:--  0:02:03 --:--:--     0"
     ]
    },
    {
     "name": "stderr",
     "output_type": "stream",
     "text": [
      "\r",
      "100    63    0     0    0    63      0      0 --:--:--  0:02:04 --:--:--     0"
     ]
    },
    {
     "name": "stderr",
     "output_type": "stream",
     "text": [
      "\r",
      "100    63    0     0    0    63      0      0 --:--:--  0:02:05 --:--:--     0"
     ]
    },
    {
     "name": "stderr",
     "output_type": "stream",
     "text": [
      "\r",
      "100    63    0     0    0    63      0      0 --:--:--  0:02:06 --:--:--     0"
     ]
    },
    {
     "name": "stderr",
     "output_type": "stream",
     "text": [
      "\r",
      "100    63    0     0    0    63      0      0 --:--:--  0:02:07 --:--:--     0"
     ]
    },
    {
     "name": "stderr",
     "output_type": "stream",
     "text": [
      "\r",
      "100    63    0     0    0    63      0      0 --:--:--  0:02:08 --:--:--     0"
     ]
    },
    {
     "name": "stderr",
     "output_type": "stream",
     "text": [
      "\r",
      "100    63    0     0    0    63      0      0 --:--:--  0:02:09 --:--:--     0"
     ]
    },
    {
     "name": "stderr",
     "output_type": "stream",
     "text": [
      "\r",
      "100    63    0     0    0    63      0      0 --:--:--  0:02:10 --:--:--     0"
     ]
    },
    {
     "name": "stderr",
     "output_type": "stream",
     "text": [
      "\r",
      "100    63    0     0    0    63      0      0 --:--:--  0:02:11 --:--:--     0"
     ]
    },
    {
     "name": "stderr",
     "output_type": "stream",
     "text": [
      "\r",
      "100    63    0     0    0    63      0      0 --:--:--  0:02:12 --:--:--     0"
     ]
    },
    {
     "name": "stderr",
     "output_type": "stream",
     "text": [
      "\r",
      "100    63    0     0    0    63      0      0 --:--:--  0:02:13 --:--:--     0"
     ]
    },
    {
     "name": "stderr",
     "output_type": "stream",
     "text": [
      "\r",
      "100    63    0     0    0    63      0      0 --:--:--  0:02:14 --:--:--     0"
     ]
    },
    {
     "name": "stderr",
     "output_type": "stream",
     "text": [
      "\r",
      "100    63    0     0    0    63      0      0 --:--:--  0:02:15 --:--:--     0"
     ]
    },
    {
     "name": "stderr",
     "output_type": "stream",
     "text": [
      "\r",
      "100    63    0     0    0    63      0      0 --:--:--  0:02:16 --:--:--     0"
     ]
    },
    {
     "name": "stderr",
     "output_type": "stream",
     "text": [
      "\r",
      "100    63    0     0    0    63      0      0 --:--:--  0:02:17 --:--:--     0"
     ]
    },
    {
     "name": "stderr",
     "output_type": "stream",
     "text": [
      "\r",
      "100    63    0     0    0    63      0      0 --:--:--  0:02:18 --:--:--     0"
     ]
    },
    {
     "name": "stderr",
     "output_type": "stream",
     "text": [
      "\r",
      "100    63    0     0    0    63      0      0 --:--:--  0:02:19 --:--:--     0"
     ]
    },
    {
     "name": "stderr",
     "output_type": "stream",
     "text": [
      "\r",
      "100    63    0     0    0    63      0      0 --:--:--  0:02:20 --:--:--     0"
     ]
    },
    {
     "name": "stderr",
     "output_type": "stream",
     "text": [
      "\r",
      "100    63    0     0    0    63      0      0 --:--:--  0:02:21 --:--:--     0"
     ]
    },
    {
     "name": "stderr",
     "output_type": "stream",
     "text": [
      "\r",
      "100    63    0     0    0    63      0      0 --:--:--  0:02:22 --:--:--     0"
     ]
    },
    {
     "name": "stderr",
     "output_type": "stream",
     "text": [
      "\r",
      "100    63    0     0    0    63      0      0 --:--:--  0:02:23 --:--:--     0"
     ]
    },
    {
     "name": "stderr",
     "output_type": "stream",
     "text": [
      "\r",
      "100    63    0     0    0    63      0      0 --:--:--  0:02:24 --:--:--     0"
     ]
    },
    {
     "name": "stderr",
     "output_type": "stream",
     "text": [
      "\r",
      "100    63    0     0    0    63      0      0 --:--:--  0:02:25 --:--:--     0"
     ]
    },
    {
     "name": "stderr",
     "output_type": "stream",
     "text": [
      "\r",
      "100    63    0     0    0    63      0      0 --:--:--  0:02:26 --:--:--     0"
     ]
    },
    {
     "name": "stderr",
     "output_type": "stream",
     "text": [
      "\r",
      "100    63    0     0    0    63      0      0 --:--:--  0:02:27 --:--:--     0"
     ]
    },
    {
     "name": "stderr",
     "output_type": "stream",
     "text": [
      "\r",
      "100    63    0     0    0    63      0      0 --:--:--  0:02:28 --:--:--     0"
     ]
    },
    {
     "name": "stderr",
     "output_type": "stream",
     "text": [
      "\r",
      "100    63    0     0    0    63      0      0 --:--:--  0:02:29 --:--:--     0"
     ]
    },
    {
     "name": "stderr",
     "output_type": "stream",
     "text": [
      "\r",
      "100    63    0     0    0    63      0      0 --:--:--  0:02:30 --:--:--     0"
     ]
    },
    {
     "name": "stderr",
     "output_type": "stream",
     "text": [
      "\r",
      "100    63    0     0    0    63      0      0 --:--:--  0:02:31 --:--:--     0"
     ]
    },
    {
     "name": "stderr",
     "output_type": "stream",
     "text": [
      "\r",
      "100    63    0     0    0    63      0      0 --:--:--  0:02:32 --:--:--     0"
     ]
    },
    {
     "name": "stderr",
     "output_type": "stream",
     "text": [
      "\r",
      "100    63    0     0    0    63      0      0 --:--:--  0:02:33 --:--:--     0"
     ]
    },
    {
     "name": "stderr",
     "output_type": "stream",
     "text": [
      "\r",
      "100    63    0     0    0    63      0      0 --:--:--  0:02:34 --:--:--     0"
     ]
    },
    {
     "name": "stdout",
     "output_type": "stream",
     "text": [
      "{'POST': 'curl -X POST -H \"Content-Type: application/json\" -d \\'{\"order_cid\": '\n",
      "         '\"QmaJ3zTTTEhchvHsiHkjsrSN2NMKikVguiSrtSnTZp65jX\"}\\' '\n",
      "         'http://127.0.0.1:5000/cat/node/link',\n",
      " 'bom': {'invoice_cid': 'QmVtQtS7HtnPgrkZjDr4UtX88T12FNUsXG1VpREAANBGeJ',\n",
      "         'log_cid': 'QmbFyynkg3JNu3VQ9MSkaN52AqVwDS6tmDo5Ubfn3QCThr'},\n",
      " 'bom_cid': 'QmV2otfc7rkWBAx6uuXmUXwaNhbL1HYcpDC8dTDHqsHp5B',\n",
      " 'flat_bom': {'invoice': {'data_cid': 'QmbpjYsEDFzCoDWkqEdg5wN6hYzPSNGNhUr9gdeCgeTDza',\n",
      "                          'order': {'endpoint': 'http://127.0.0.1:5000/cat/node/link',\n",
      "                                    'flat': {'function': {'infrafunction': None,\n",
      "                                                          'process_cid': 'QmXC2XLDePUxCoPtETPejd5uwF3BcaoQNAn2vRU4a4BK7z'},\n",
      "                                             'invoice': {'data_cid': 'QmRchhpqP2Y9YJUJ2s16s4GTt4j8eGwgMjJ29R16ux5dGJ'}},\n",
      "                                    'function_cid': 'QmXoU3V8JWvHm12rbsm4czhQAS1k47ESY5Uto1Pqekb87q',\n",
      "                                    'invoice_cid': 'QmPMWojSJabeggY9oBYRwzhxpnYaftsqY1Cz2iK6pLYxoP',\n",
      "                                    'structure_cid': 'QmYyFroE2Nw1BVg3D1MQdeZFrMAn9XWYHgWueMUKaRGops',\n",
      "                                    'structure_filepath': 'main.tf'},\n",
      "                          'order_cid': 'QmaJ3zTTTEhchvHsiHkjsrSN2NMKikVguiSrtSnTZp65jX',\n",
      "                          'seed_cid': None},\n",
      "              'log': {'egress_job_id': 'fa7c8579-9ac6-4f64-8067-0635dcf8d26b',\n",
      "                      'ingress_job_id': 'c4f7b2b9-9980-4b34-b3ef-f8ad613faf6c',\n",
      "                      'integration_output': 's3://catstore3/boms/result-20240123-c4f7b2b9-9980-4b34-b3ef-f8ad613faf6c-integrated'}}}\n"
     ]
    },
    {
     "name": "stderr",
     "output_type": "stream",
     "text": [
      "\r",
      "100   278  100   215    0    63      1      0  0:03:35  0:02:34  0:01:01    46\r",
      "100   278  100   215    0    63      1      0  0:03:35  0:02:34  0:01:01    60\n"
     ]
    }
   ],
   "source": [
    "cat_invoiced_response_1 = service.catSubmit(cat_order_request_1)\n",
    "# pprint(cat_invoiced_response_1)\n",
    "flat_cat_invoiced_response_1 = service.flatten_bom(cat_invoiced_response_1)\n",
    "pprint(flat_cat_invoiced_response_1)"
   ]
  }
 ],
 "metadata": {
  "kernelspec": {
   "display_name": "Python 3 (ipykernel)",
   "language": "python",
   "name": "python3"
  },
  "language_info": {
   "codemirror_mode": {
    "name": "ipython",
    "version": 3
   },
   "file_extension": ".py",
   "mimetype": "text/x-python",
   "name": "python",
   "nbconvert_exporter": "python",
   "pygments_lexer": "ipython3",
   "version": "3.10.13"
  }
 },
 "nbformat": 4,
 "nbformat_minor": 5
}
