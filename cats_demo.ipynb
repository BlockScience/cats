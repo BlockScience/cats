{
 "cells": [
  {
   "cell_type": "code",
   "execution_count": 1,
   "id": "38958585-cae4-422b-98ae-79fd203f9f19",
   "metadata": {},
   "outputs": [
    {
     "name": "stderr",
     "output_type": "stream",
     "text": [
      "/tmp/ipykernel_2022337/1461130463.py:2: FutureWarning: The `ipfsapi` library is deprecated and will stop receiving updates on the 31.12.2019! If you are on Python 3.5+ please enable and fix all Python deprecation warnings (CPython flag `-Wd`) and switch to the new `ipfshttpclient` library name. Python 2.7 and 3.4 will not be supported by the new library, so please upgrade.\n",
      "  import ipfsapi as ipfsApi\n",
      "/home/jjodesty/Projects/Research/cats-research/venv/lib/python3.10/site-packages/tqdm/auto.py:21: TqdmWarning: IProgress not found. Please update jupyter and ipywidgets. See https://ipywidgets.readthedocs.io/en/stable/user_install.html\n",
      "  from .autonotebook import tqdm as notebook_tqdm\n",
      "2024-01-22 10:46:12,915\tINFO util.py:159 -- Missing packages: ['ipywidgets']. Run `pip install -U ipywidgets`, then restart the notebook server for rich notebook output.\n"
     ]
    }
   ],
   "source": [
    "from pprint import pprint\n",
    "import ipfsapi as ipfsApi\n",
    "from cats.network import MeshClient\n",
    "from cats.service import Service\n",
    "from process import *"
   ]
  },
  {
   "cell_type": "markdown",
   "id": "5a10b583-b05a-41f0-af3c-bf36bc6dc51b",
   "metadata": {},
   "source": [
    "### Execute Initial CAT"
   ]
  },
  {
   "cell_type": "markdown",
   "id": "2519f361-95d9-41bd-abfb-c677e4ac9047",
   "metadata": {},
   "source": [
    "##### Instantiate CAT Service:"
   ]
  },
  {
   "cell_type": "code",
   "execution_count": 2,
   "id": "579b6eef-b426-4279-aa62-19a31ec65219",
   "metadata": {},
   "outputs": [],
   "source": [
    "service = Service(\n",
    "    meshClient=MeshClient(\n",
    "        ipfsClient=ipfsApi.Client('127.0.0.1', 5001)\n",
    "    )\n",
    ")"
   ]
  },
  {
   "cell_type": "markdown",
   "id": "8724e0fa-f0d4-44ac-b504-af812e800e98",
   "metadata": {},
   "source": [
    "##### Compose Initial CAT Order request for CAT Node"
   ]
  },
  {
   "cell_type": "code",
   "execution_count": 3,
   "id": "e877dffa-d3c6-4aab-a9a4-0c672ce50d3e",
   "metadata": {},
   "outputs": [
    {
     "name": "stdout",
     "output_type": "stream",
     "text": [
      "{'order_cid': 'QmSmGTZTUaFyhxdfp8uLrAWPvkREmRq1vxbnPYEVTvw2Xu'}\n"
     ]
    }
   ],
   "source": [
    "cat_order_request_0 = service.create_order_request(\n",
    "    process_obj=process_0,\n",
    "    data_dirpath='data',\n",
    "    structure_filepath='main.tf',\n",
    "    endpoint='http://127.0.0.1:5000/cat/node/init'\n",
    ")\n",
    "pprint(cat_order_request_0)"
   ]
  },
  {
   "cell_type": "markdown",
   "id": "c24bbef4-b4df-44d0-b6d5-52553552dcb8",
   "metadata": {},
   "source": [
    "##### Submit Initial CAT Order request to CAT Node"
   ]
  },
  {
   "cell_type": "code",
   "execution_count": 4,
   "id": "09d5b3d3-0f3f-4a45-b5d3-22981d807db6",
   "metadata": {},
   "outputs": [
    {
     "name": "stdout",
     "output_type": "stream",
     "text": [
      "Order:\n",
      "\n",
      "{'endpoint': 'http://127.0.0.1:5000/cat/node/init',\n",
      " 'function_cid': 'QmPMniqGmZ28QnDwa2UJqkcWjkkaehkEKcXD47kLUVWaEd',\n",
      " 'invoice_cid': 'QmQnZ1DR9CMjcyzH5RpD9mMcg39AMyjf2mRNEwj8tPHBMJ',\n",
      " 'structure_cid': 'QmYyFroE2Nw1BVg3D1MQdeZFrMAn9XWYHgWueMUKaRGops',\n",
      " 'structure_filepath': 'main.tf'}\n",
      "\n",
      "\n",
      "curl -X POST -H \"Content-Type: application/json\" -d \\\n",
      "'{\n",
      "    \"order_cid\": \"QmSmGTZTUaFyhxdfp8uLrAWPvkREmRq1vxbnPYEVTvw2Xu\"\n",
      "}' http://127.0.0.1:5000/cat/node/init\n",
      "\n",
      "\n"
     ]
    },
    {
     "name": "stderr",
     "output_type": "stream",
     "text": [
      "  % Total    % Received % Xferd  Average Speed   Time    Time     Time  Current\n",
      "                                 Dload  Upload   Total   Spent    Left  Speed\n",
      "100    63    0     0    0    63      0      0 --:--:--  0:01:44 --:--:--     0"
     ]
    },
    {
     "name": "stdout",
     "output_type": "stream",
     "text": [
      "{'POST': 'curl -X POST -H \"Content-Type: application/json\" -d \\'{\"order_cid\": '\n",
      "         '\"QmSmGTZTUaFyhxdfp8uLrAWPvkREmRq1vxbnPYEVTvw2Xu\"}\\' '\n",
      "         'http://127.0.0.1:5000/cat/node/init',\n",
      " 'bom': {'invoice_cid': 'QmfDNNNstL2yB7Ef5ugfxeK9u4Dwoo6FRTg5T8UuRqTo9S',\n",
      "         'log_cid': 'QmS7whqq9jAU43AqLbwY1Ttge39q5ygtrCG8J32v3x6M1d'},\n",
      " 'bom_cid': 'QmdyrBAzWcSUwkuxECAax12dMTYTtEG2hhtqCGSfdiKRHE',\n",
      " 'flat_bom': {'invoice': {'data_cid': 'QmdPpt7AFg7V4WLS4nxHNCqVo42YAvZt8cnPum6CyuwVAJ',\n",
      "                          'order': {'endpoint': 'http://127.0.0.1:5000/cat/node/init',\n",
      "                                    'flat': {'function': {'infrafunction_cid': None,\n",
      "                                                          'process_cid': 'QmXqKpSVBuoZD2QG8hT3tTF8ai6cHV8iTHt2tF5sM3scmc'},\n",
      "                                             'invoice': {'data_cid': 'QmQpyDtFsz2JLNTSrPRzLs1tzPrfBxYbCw6kehVWqUXLVN'}},\n",
      "                                    'function_cid': 'QmPMniqGmZ28QnDwa2UJqkcWjkkaehkEKcXD47kLUVWaEd',\n",
      "                                    'invoice_cid': 'QmQnZ1DR9CMjcyzH5RpD9mMcg39AMyjf2mRNEwj8tPHBMJ',\n",
      "                                    'structure_cid': 'QmYyFroE2Nw1BVg3D1MQdeZFrMAn9XWYHgWueMUKaRGops',\n",
      "                                    'structure_filepath': 'main.tf'},\n",
      "                          'order_cid': 'QmSmGTZTUaFyhxdfp8uLrAWPvkREmRq1vxbnPYEVTvw2Xu',\n",
      "                          'seed_cid': None},\n",
      "              'log': {'egress_job_id': '871bf5a3-4b1d-4a8a-95f2-a6f557beb1c6',\n",
      "                      'ingress_job_id': '95c91c0d-0c30-4f47-9a23-7bc9f682b9a9',\n",
      "                      'integration_output': 's3://catstore3/boms/result-20240122-95c91c0d-0c30-4f47-9a23-7bc9f682b9a9-integrated'}}}\n"
     ]
    },
    {
     "name": "stderr",
     "output_type": "stream",
     "text": [
      "100   278  100   215    0    63      2      0  0:01:47  0:01:44  0:00:03    48\n"
     ]
    }
   ],
   "source": [
    "cat_invoiced_response_0 = service.catSubmit(cat_order_request_0)\n",
    "# pprint(cat_invoiced_response_0)\n",
    "flat_cat_invoiced_response_0 = service.flatten_bom(cat_invoiced_response_0)\n",
    "pprint(flat_cat_invoiced_response_0)"
   ]
  },
  {
   "cell_type": "markdown",
   "id": "d8fc148d-daf4-4657-91fa-1d0a32ce218f",
   "metadata": {},
   "source": [
    "### Execute a different CAT Process\n",
    "\n",
    "Compose a modified CAT Order request that executes another CAT with wthe same Structure that executes a different CAT Process"
   ]
  },
  {
   "cell_type": "code",
   "execution_count": 5,
   "id": "b4ef2988-34fa-4b25-8975-360be65f0b35",
   "metadata": {},
   "outputs": [
    {
     "name": "stdout",
     "output_type": "stream",
     "text": [
      "{'order_cid': 'Qmb6muVp6q68LTPYkQm5xubQ1WyZAJ9xc3iD1Ff1GHweEU'}\n"
     ]
    }
   ],
   "source": [
    "cat_order_request_1 = service.linkProcess(cat_invoiced_response_0, process_1)\n",
    "pprint(cat_order_request_1)"
   ]
  },
  {
   "cell_type": "markdown",
   "id": "50b9f1e1-3704-471f-8ea9-0a58341a17ea",
   "metadata": {},
   "source": [
    "##### Submit modified CAT Order request to CAT Node"
   ]
  },
  {
   "cell_type": "code",
   "execution_count": 6,
   "id": "695a1368-5120-409d-8216-602cb82bd052",
   "metadata": {},
   "outputs": [
    {
     "name": "stdout",
     "output_type": "stream",
     "text": [
      "Order:\n",
      "\n",
      "{'endpoint': 'http://127.0.0.1:5000/cat/node/link',\n",
      " 'function_cid': 'QmXoU3V8JWvHm12rbsm4czhQAS1k47ESY5Uto1Pqekb87q',\n",
      " 'invoice_cid': 'QmX125qfLtCR4JjnCKKcUWhaH3zdiSHFLT6oF4pQ5m4RaD',\n",
      " 'structure_cid': 'QmYyFroE2Nw1BVg3D1MQdeZFrMAn9XWYHgWueMUKaRGops',\n",
      " 'structure_filepath': 'main.tf'}\n",
      "\n",
      "\n",
      "curl -X POST -H \"Content-Type: application/json\" -d \\\n",
      "'{\n",
      "    \"order_cid\": \"Qmb6muVp6q68LTPYkQm5xubQ1WyZAJ9xc3iD1Ff1GHweEU\"\n",
      "}' http://127.0.0.1:5000/cat/node/link\n",
      "\n",
      "\n"
     ]
    },
    {
     "name": "stderr",
     "output_type": "stream",
     "text": [
      "  % Total    % Received % Xferd  Average Speed   Time    Time     Time  Current\n",
      "                                 Dload  Upload   Total   Spent    Left  Speed\n",
      "100    63    0     0    0    63      0      0 --:--:--  0:02:37 --:--:--     0"
     ]
    },
    {
     "name": "stdout",
     "output_type": "stream",
     "text": [
      "{'POST': 'curl -X POST -H \"Content-Type: application/json\" -d \\'{\"order_cid\": '\n",
      "         '\"Qmb6muVp6q68LTPYkQm5xubQ1WyZAJ9xc3iD1Ff1GHweEU\"}\\' '\n",
      "         'http://127.0.0.1:5000/cat/node/link',\n",
      " 'bom': {'invoice_cid': 'QmUWcrcHJFuS5MdsfwtocZnLQnEa7WipVXJkKcW4aKDQS5',\n",
      "         'log_cid': 'QmVb3vGVoDGShYQ9BX5hjyL2rt1MmCwQXwUWn4WfprpABd'},\n",
      " 'bom_cid': 'QmbsJDEujiCLpmpyN3uCVLnkbeRZKkLiJTRqprsFpGSoQm',\n",
      " 'flat_bom': {'invoice': {'data_cid': 'QmXSCHxg2PirfDQX76MFkbQzJywuXdn1EbfwwXiZuw32VM',\n",
      "                          'order': {'endpoint': 'http://127.0.0.1:5000/cat/node/link',\n",
      "                                    'flat': {'function': {'infrafunction': None,\n",
      "                                                          'process_cid': 'QmXC2XLDePUxCoPtETPejd5uwF3BcaoQNAn2vRU4a4BK7z'},\n",
      "                                             'invoice': {'data_cid': 'QmdPpt7AFg7V4WLS4nxHNCqVo42YAvZt8cnPum6CyuwVAJ'}},\n",
      "                                    'function_cid': 'QmXoU3V8JWvHm12rbsm4czhQAS1k47ESY5Uto1Pqekb87q',\n",
      "                                    'invoice_cid': 'QmX125qfLtCR4JjnCKKcUWhaH3zdiSHFLT6oF4pQ5m4RaD',\n",
      "                                    'structure_cid': 'QmYyFroE2Nw1BVg3D1MQdeZFrMAn9XWYHgWueMUKaRGops',\n",
      "                                    'structure_filepath': 'main.tf'},\n",
      "                          'order_cid': 'Qmb6muVp6q68LTPYkQm5xubQ1WyZAJ9xc3iD1Ff1GHweEU',\n",
      "                          'seed_cid': None},\n",
      "              'log': {'egress_job_id': '90686b62-4a03-4818-865a-68f155f6cc01',\n",
      "                      'ingress_job_id': 'f1141abb-ecdb-4b92-8a8c-54b7bb65fb9b',\n",
      "                      'integration_output': 's3://catstore3/boms/result-20240122-f1141abb-ecdb-4b92-8a8c-54b7bb65fb9b-integrated'}}}\n"
     ]
    },
    {
     "name": "stderr",
     "output_type": "stream",
     "text": [
      "100   278  100   215    0    63      1      0  0:03:35  0:02:38  0:00:57    55\n"
     ]
    }
   ],
   "source": [
    "cat_invoiced_response_1 = service.catSubmit(cat_order_request_1)\n",
    "# pprint(cat_invoiced_response_1)\n",
    "flat_cat_invoiced_response_1 = service.flatten_bom(cat_invoiced_response_1)\n",
    "pprint(flat_cat_invoiced_response_1)"
   ]
  },
  {
   "cell_type": "code",
   "execution_count": 7,
   "id": "b36b6173-0a65-44fd-9391-103c51e10ffb",
   "metadata": {},
   "outputs": [
    {
     "name": "stdout",
     "output_type": "stream",
     "text": [
      "{'POST': 'curl -X POST -H \"Content-Type: application/json\" -d \\'{\"order_cid\": '\n",
      "         '\"QmSmGTZTUaFyhxdfp8uLrAWPvkREmRq1vxbnPYEVTvw2Xu\"}\\' '\n",
      "         'http://127.0.0.1:5000/cat/node/init',\n",
      " 'bom': {'invoice_cid': 'QmfDNNNstL2yB7Ef5ugfxeK9u4Dwoo6FRTg5T8UuRqTo9S',\n",
      "         'log_cid': 'QmS7whqq9jAU43AqLbwY1Ttge39q5ygtrCG8J32v3x6M1d'},\n",
      " 'bom_cid': 'QmdyrBAzWcSUwkuxECAax12dMTYTtEG2hhtqCGSfdiKRHE',\n",
      " 'flat_bom': {'invoice': {'data_cid': 'QmdPpt7AFg7V4WLS4nxHNCqVo42YAvZt8cnPum6CyuwVAJ',\n",
      "                          'order': {'endpoint': 'http://127.0.0.1:5000/cat/node/init',\n",
      "                                    'flat': {'function': {'infrafunction_cid': None,\n",
      "                                                          'process_cid': 'QmXqKpSVBuoZD2QG8hT3tTF8ai6cHV8iTHt2tF5sM3scmc'},\n",
      "                                             'invoice': {'data_cid': 'QmQpyDtFsz2JLNTSrPRzLs1tzPrfBxYbCw6kehVWqUXLVN'}},\n",
      "                                    'function_cid': 'QmPMniqGmZ28QnDwa2UJqkcWjkkaehkEKcXD47kLUVWaEd',\n",
      "                                    'invoice_cid': 'QmQnZ1DR9CMjcyzH5RpD9mMcg39AMyjf2mRNEwj8tPHBMJ',\n",
      "                                    'structure_cid': 'QmYyFroE2Nw1BVg3D1MQdeZFrMAn9XWYHgWueMUKaRGops',\n",
      "                                    'structure_filepath': 'main.tf'},\n",
      "                          'order_cid': 'QmSmGTZTUaFyhxdfp8uLrAWPvkREmRq1vxbnPYEVTvw2Xu',\n",
      "                          'seed_cid': None},\n",
      "              'log': {'egress_job_id': '871bf5a3-4b1d-4a8a-95f2-a6f557beb1c6',\n",
      "                      'ingress_job_id': '95c91c0d-0c30-4f47-9a23-7bc9f682b9a9',\n",
      "                      'integration_output': 's3://catstore3/boms/result-20240122-95c91c0d-0c30-4f47-9a23-7bc9f682b9a9-integrated'}}}\n"
     ]
    }
   ],
   "source": [
    "pprint(flat_cat_invoiced_response_0)"
   ]
  },
  {
   "cell_type": "code",
   "execution_count": 8,
   "id": "ea2601f5-8309-4b67-a781-7dd544215cdd",
   "metadata": {},
   "outputs": [
    {
     "name": "stdout",
     "output_type": "stream",
     "text": [
      "{'POST': 'curl -X POST -H \"Content-Type: application/json\" -d \\'{\"order_cid\": '\n",
      "         '\"Qmb6muVp6q68LTPYkQm5xubQ1WyZAJ9xc3iD1Ff1GHweEU\"}\\' '\n",
      "         'http://127.0.0.1:5000/cat/node/link',\n",
      " 'bom': {'invoice_cid': 'QmUWcrcHJFuS5MdsfwtocZnLQnEa7WipVXJkKcW4aKDQS5',\n",
      "         'log_cid': 'QmVb3vGVoDGShYQ9BX5hjyL2rt1MmCwQXwUWn4WfprpABd'},\n",
      " 'bom_cid': 'QmbsJDEujiCLpmpyN3uCVLnkbeRZKkLiJTRqprsFpGSoQm',\n",
      " 'flat_bom': {'invoice': {'data_cid': 'QmXSCHxg2PirfDQX76MFkbQzJywuXdn1EbfwwXiZuw32VM',\n",
      "                          'order': {'endpoint': 'http://127.0.0.1:5000/cat/node/link',\n",
      "                                    'flat': {'function': {'infrafunction': None,\n",
      "                                                          'process_cid': 'QmXC2XLDePUxCoPtETPejd5uwF3BcaoQNAn2vRU4a4BK7z'},\n",
      "                                             'invoice': {'data_cid': 'QmdPpt7AFg7V4WLS4nxHNCqVo42YAvZt8cnPum6CyuwVAJ'}},\n",
      "                                    'function_cid': 'QmXoU3V8JWvHm12rbsm4czhQAS1k47ESY5Uto1Pqekb87q',\n",
      "                                    'invoice_cid': 'QmX125qfLtCR4JjnCKKcUWhaH3zdiSHFLT6oF4pQ5m4RaD',\n",
      "                                    'structure_cid': 'QmYyFroE2Nw1BVg3D1MQdeZFrMAn9XWYHgWueMUKaRGops',\n",
      "                                    'structure_filepath': 'main.tf'},\n",
      "                          'order_cid': 'Qmb6muVp6q68LTPYkQm5xubQ1WyZAJ9xc3iD1Ff1GHweEU',\n",
      "                          'seed_cid': None},\n",
      "              'log': {'egress_job_id': '90686b62-4a03-4818-865a-68f155f6cc01',\n",
      "                      'ingress_job_id': 'f1141abb-ecdb-4b92-8a8c-54b7bb65fb9b',\n",
      "                      'integration_output': 's3://catstore3/boms/result-20240122-f1141abb-ecdb-4b92-8a8c-54b7bb65fb9b-integrated'}}}\n"
     ]
    }
   ],
   "source": [
    "pprint(flat_cat_invoiced_response_1)"
   ]
  },
  {
   "cell_type": "code",
   "execution_count": null,
   "id": "a9cab493-3843-40e8-9c21-c45d48c6f6e1",
   "metadata": {},
   "outputs": [],
   "source": []
  },
  {
   "cell_type": "code",
   "execution_count": 12,
   "id": "3927cd82-c2c3-4ae9-b074-1cc80cfc5bfa",
   "metadata": {},
   "outputs": [],
   "source": [
    "import pandas as pd\n",
    "import numpy as np\n",
    "import os"
   ]
  },
  {
   "cell_type": "code",
   "execution_count": 13,
   "id": "a96576d3-e888-440c-ae91-e0b35addb784",
   "metadata": {},
   "outputs": [],
   "source": [
    "cat0_input_df = service.cid_to_pandasDF(\n",
    "    cid=flat_cat_invoiced_response_0['flat_bom']['invoice']['order']['flat']['invoice']['data_cid'],\n",
    "    output_dir='',\n",
    "    download_dir='online/cat0_input'\n",
    ")\n",
    "cat0_output_df = service.cid_to_pandasDF(\n",
    "    cid=flat_cat_invoiced_response_0['flat_bom']['invoice']['data_cid'],\n",
    "    download_dir='online/cat0_output'\n",
    ")\n",
    "cat1_input_df = service.cid_to_pandasDF(\n",
    "    cid=flat_cat_invoiced_response_1['flat_bom']['invoice']['order']['flat']['invoice']['data_cid'],\n",
    "    # output_dir='',\n",
    "    download_dir='online/cat1_input'\n",
    ")\n",
    "cat1_output_df = service.cid_to_pandasDF(\n",
    "    cid=flat_cat_invoiced_response_1['flat_bom']['invoice']['data_cid'], \n",
    "    download_dir='online/cat1_output'\n",
    ")\n"
   ]
  },
  {
   "cell_type": "code",
   "execution_count": 14,
   "id": "c5c0de8a-e2fd-475a-b3be-96ef66fc457a",
   "metadata": {},
   "outputs": [],
   "source": [
    "source_df = cat0_input_df.drop(columns=['filename']).values\n",
    "\n",
    "cat0_data_verification = np.array_equal(\n",
    "    source_df, \n",
    "    cat0_output_df.sort_values('id').drop(columns=['id', 'filename', 'petal area (cm^2)']).values\n",
    ")\n",
    "\n",
    "cat1_data_verification = np.array_equal(\n",
    "    cat1_input_df.sort_values('id').drop(columns=['id', 'filename']).values, \n",
    "    cat1_output_df.sort_values('id').drop(columns=['id', 'filename', 'DUPLICATE petal area (cm^2)']).values\n",
    ")\n",
    "\n",
    "cat1_input_lineage_verification = np.array_equal(\n",
    "    source_df, \n",
    "    cat1_input_df.sort_values('id').drop(columns=['id', 'filename', 'petal area (cm^2)']).values\n",
    ") \n",
    "\n",
    "cat1_output_lineage_verification = np.array_equal(\n",
    "    source_df, \n",
    "    cat1_output_df.sort_values('id').drop(columns=['id', 'filename', 'petal area (cm^2)', 'DUPLICATE petal area (cm^2)']).values\n",
    ")\n",
    "\n",
    "catMesh_data_verification = cat0_data_verification == cat1_data_verification\n",
    "\n",
    "catMesh_data_transfer_verification = np.array_equal(\n",
    "    cat0_output_df.sort_values('id').drop(columns=['id', 'filename']).values, \n",
    "    cat1_input_df.sort_values('id').drop(columns=['id', 'filename']).values\n",
    ")\n",
    "\n",
    "catMesh_lineage_verification = cat1_input_lineage_verification == cat1_output_lineage_verification"
   ]
  },
  {
   "cell_type": "code",
   "execution_count": null,
   "id": "f1754138-45ba-4903-9da7-81535f73c61c",
   "metadata": {},
   "outputs": [],
   "source": []
  },
  {
   "cell_type": "code",
   "execution_count": null,
   "id": "399a6b6f-e18d-4d12-996e-5e305e22a94f",
   "metadata": {},
   "outputs": [],
   "source": []
  },
  {
   "cell_type": "code",
   "execution_count": null,
   "id": "22f5dd03-9b7a-451d-a1a5-db1ea42dc358",
   "metadata": {},
   "outputs": [],
   "source": []
  }
 ],
 "metadata": {
  "kernelspec": {
   "display_name": "Python 3 (ipykernel)",
   "language": "python",
   "name": "python3"
  },
  "language_info": {
   "codemirror_mode": {
    "name": "ipython",
    "version": 3
   },
   "file_extension": ".py",
   "mimetype": "text/x-python",
   "name": "python",
   "nbconvert_exporter": "python",
   "pygments_lexer": "ipython3",
   "version": "3.10.13"
  }
 },
 "nbformat": 4,
 "nbformat_minor": 5
}
