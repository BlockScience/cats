{
 "cells": [
  {
   "cell_type": "code",
   "execution_count": 1,
   "id": "38958585-cae4-422b-98ae-79fd203f9f19",
   "metadata": {},
   "outputs": [
    {
     "name": "stderr",
     "output_type": "stream",
     "text": [
      "/tmp/ipykernel_4173120/1461130463.py:2: FutureWarning: The `ipfsapi` library is deprecated and will stop receiving updates on the 31.12.2019! If you are on Python 3.5+ please enable and fix all Python deprecation warnings (CPython flag `-Wd`) and switch to the new `ipfshttpclient` library name. Python 2.7 and 3.4 will not be supported by the new library, so please upgrade.\n",
      "  import ipfsapi as ipfsApi\n"
     ]
    }
   ],
   "source": [
    "from pprint import pprint\n",
    "import ipfsapi as ipfsApi\n",
    "from cats.network import MeshClient\n",
    "from cats.service import Service\n",
    "from process import *"
   ]
  },
  {
   "cell_type": "markdown",
   "id": "5a10b583-b05a-41f0-af3c-bf36bc6dc51b",
   "metadata": {},
   "source": [
    "### Execute Initial CAT0:"
   ]
  },
  {
   "cell_type": "markdown",
   "id": "2519f361-95d9-41bd-abfb-c677e4ac9047",
   "metadata": {},
   "source": [
    "##### Instantiate CAT Mesh Service:"
   ]
  },
  {
   "cell_type": "code",
   "execution_count": 2,
   "id": "579b6eef-b426-4279-aa62-19a31ec65219",
   "metadata": {},
   "outputs": [],
   "source": [
    "service = Service(\n",
    "    meshClient=MeshClient(\n",
    "        ipfsClient=ipfsApi.Client('127.0.0.1', 5001)\n",
    "    )\n",
    ")"
   ]
  },
  {
   "cell_type": "markdown",
   "id": "8724e0fa-f0d4-44ac-b504-af812e800e98",
   "metadata": {},
   "source": [
    "##### Compose Initial CAT Order request for CAT Node"
   ]
  },
  {
   "cell_type": "code",
   "execution_count": 3,
   "id": "e877dffa-d3c6-4aab-a9a4-0c672ce50d3e",
   "metadata": {},
   "outputs": [
    {
     "name": "stdout",
     "output_type": "stream",
     "text": [
      "{'order_cid': 'QmSmGTZTUaFyhxdfp8uLrAWPvkREmRq1vxbnPYEVTvw2Xu'}\n"
     ]
    }
   ],
   "source": [
    "cat_order_request_0 = service.create_order_request(\n",
    "    process_obj=process_0,\n",
    "    data_dirpath='data',\n",
    "    structure_filepath='main.tf',\n",
    "    endpoint='http://127.0.0.1:5000/cat/node/init'\n",
    ")\n",
    "pprint(cat_order_request_0)"
   ]
  },
  {
   "cell_type": "markdown",
   "id": "c24bbef4-b4df-44d0-b6d5-52553552dcb8",
   "metadata": {},
   "source": [
    "##### Submit Initial CAT Order request to CAT Node"
   ]
  },
  {
   "cell_type": "code",
   "execution_count": 4,
   "id": "09d5b3d3-0f3f-4a45-b5d3-22981d807db6",
   "metadata": {},
   "outputs": [
    {
     "name": "stdout",
     "output_type": "stream",
     "text": [
      "Order:\n",
      "\n",
      "{'endpoint': 'http://127.0.0.1:5000/cat/node/init',\n",
      " 'function_cid': 'QmPMniqGmZ28QnDwa2UJqkcWjkkaehkEKcXD47kLUVWaEd',\n",
      " 'invoice_cid': 'QmQnZ1DR9CMjcyzH5RpD9mMcg39AMyjf2mRNEwj8tPHBMJ',\n",
      " 'structure_cid': 'QmYyFroE2Nw1BVg3D1MQdeZFrMAn9XWYHgWueMUKaRGops',\n",
      " 'structure_filepath': 'main.tf'}\n",
      "\n",
      "\n",
      "curl -X POST -H \"Content-Type: application/json\" -d \\\n",
      "'{\n",
      "    \"order_cid\": \"QmSmGTZTUaFyhxdfp8uLrAWPvkREmRq1vxbnPYEVTvw2Xu\"\n",
      "}' http://127.0.0.1:5000/cat/node/init\n",
      "\n",
      "\n"
     ]
    },
    {
     "name": "stderr",
     "output_type": "stream",
     "text": [
      "  % Total    % Received % Xferd  Average Speed   Time    Time     Time  Current\n",
      "                                 Dload  Upload   Total   Spent    Left  Speed\n",
      "100    63    0     0    0    63      0      0 --:--:--  0:01:37 --:--:--     0"
     ]
    },
    {
     "name": "stdout",
     "output_type": "stream",
     "text": [
      "{'POST': 'curl -X POST -H \"Content-Type: application/json\" -d \\'{\"order_cid\": '\n",
      "         '\"QmSmGTZTUaFyhxdfp8uLrAWPvkREmRq1vxbnPYEVTvw2Xu\"}\\' '\n",
      "         'http://127.0.0.1:5000/cat/node/init',\n",
      " 'bom': {'invoice_cid': 'Qmbt1FnfaW4TCvZR5UsMD7kGDyCRnboqa1fwRXNoVtdvDF',\n",
      "         'log_cid': 'QmWu3LCbyGBKb1Z5V5472UVVcvaCZCv1a4Kydw7Az3eATR'},\n",
      " 'bom_cid': 'QmTpwZpUGEty4vtYBjNoFMgEnUuXfwn65xXe9jCNuDWG5m',\n",
      " 'flat_bom': {'invoice': {'data_cid': 'QmcAKb37o6t1ZPi3AvciczxdS3pz6fG3Yq851fGkEqczZp',\n",
      "                          'order': {'endpoint': 'http://127.0.0.1:5000/cat/node/init',\n",
      "                                    'flat': {'function': {'infrafunction_cid': None,\n",
      "                                                          'process_cid': 'QmXqKpSVBuoZD2QG8hT3tTF8ai6cHV8iTHt2tF5sM3scmc'},\n",
      "                                             'invoice': {'data_cid': 'QmQpyDtFsz2JLNTSrPRzLs1tzPrfBxYbCw6kehVWqUXLVN'}},\n",
      "                                    'function_cid': 'QmPMniqGmZ28QnDwa2UJqkcWjkkaehkEKcXD47kLUVWaEd',\n",
      "                                    'invoice_cid': 'QmQnZ1DR9CMjcyzH5RpD9mMcg39AMyjf2mRNEwj8tPHBMJ',\n",
      "                                    'structure_cid': 'QmYyFroE2Nw1BVg3D1MQdeZFrMAn9XWYHgWueMUKaRGops',\n",
      "                                    'structure_filepath': 'main.tf'},\n",
      "                          'order_cid': 'QmSmGTZTUaFyhxdfp8uLrAWPvkREmRq1vxbnPYEVTvw2Xu',\n",
      "                          'seed_cid': None},\n",
      "              'log': {'egress_job_id': '9d0bde7a-be21-4c2c-a86b-3a5ef023f890',\n",
      "                      'ingress_job_id': 'fe25aa52-d232-49e7-b6ae-443b64aac05c',\n",
      "                      'integration_output': 's3://catstore3/boms/result-20240123-fe25aa52-d232-49e7-b6ae-443b64aac05c-integrated'}}}\n"
     ]
    },
    {
     "name": "stderr",
     "output_type": "stream",
     "text": [
      "100   278  100   215    0    63      2      0  0:01:47  0:01:37  0:00:10    60\n"
     ]
    }
   ],
   "source": [
    "cat_invoiced_response_0 = service.catSubmit(cat_order_request_0)\n",
    "# pprint(cat_invoiced_response_0)\n",
    "flat_cat_invoiced_response_0 = service.flatten_bom(cat_invoiced_response_0)\n",
    "pprint(flat_cat_invoiced_response_0)"
   ]
  },
  {
   "cell_type": "markdown",
   "id": "d8fc148d-daf4-4657-91fa-1d0a32ce218f",
   "metadata": {},
   "source": [
    "### Execute CAT1:\n",
    "Compose a modified CAT Order request that executes CAT1 with CAT0's Structure a new Process"
   ]
  },
  {
   "cell_type": "code",
   "execution_count": 5,
   "id": "b4ef2988-34fa-4b25-8975-360be65f0b35",
   "metadata": {},
   "outputs": [
    {
     "name": "stdout",
     "output_type": "stream",
     "text": [
      "{'order_cid': 'QmXmDDYJpiQRABXifxddinBvxL715QnUARuuihSB7D6qBJ'}\n"
     ]
    }
   ],
   "source": [
    "cat_order_request_1 = service.linkProcess(cat_invoiced_response_0, process_1)\n",
    "pprint(cat_order_request_1)"
   ]
  },
  {
   "cell_type": "markdown",
   "id": "50b9f1e1-3704-471f-8ea9-0a58341a17ea",
   "metadata": {},
   "source": [
    "##### Submit modified CAT Order request to CAT Node"
   ]
  },
  {
   "cell_type": "code",
   "execution_count": 6,
   "id": "695a1368-5120-409d-8216-602cb82bd052",
   "metadata": {},
   "outputs": [
    {
     "name": "stdout",
     "output_type": "stream",
     "text": [
      "Order:\n",
      "\n",
      "{'endpoint': 'http://127.0.0.1:5000/cat/node/link',\n",
      " 'function_cid': 'QmXoU3V8JWvHm12rbsm4czhQAS1k47ESY5Uto1Pqekb87q',\n",
      " 'invoice_cid': 'QmUvzmuFAyxRdyHQg1K8RgqZAzZntqarjZQiKgvibzmJFP',\n",
      " 'structure_cid': 'QmYyFroE2Nw1BVg3D1MQdeZFrMAn9XWYHgWueMUKaRGops',\n",
      " 'structure_filepath': 'main.tf'}\n",
      "\n",
      "\n",
      "curl -X POST -H \"Content-Type: application/json\" -d \\\n",
      "'{\n",
      "    \"order_cid\": \"QmXmDDYJpiQRABXifxddinBvxL715QnUARuuihSB7D6qBJ\"\n",
      "}' http://127.0.0.1:5000/cat/node/link\n",
      "\n",
      "\n"
     ]
    },
    {
     "name": "stderr",
     "output_type": "stream",
     "text": [
      "  % Total    % Received % Xferd  Average Speed   Time    Time     Time  Current\n",
      "                                 Dload  Upload   Total   Spent    Left  Speed\n",
      "100    63    0     0    0    63      0      0 --:--:--  0:02:34 --:--:--     063      0    315 --:--:-- --:--:-- --:--:--   313"
     ]
    },
    {
     "name": "stdout",
     "output_type": "stream",
     "text": [
      "{'POST': 'curl -X POST -H \"Content-Type: application/json\" -d \\'{\"order_cid\": '\n",
      "         '\"QmXmDDYJpiQRABXifxddinBvxL715QnUARuuihSB7D6qBJ\"}\\' '\n",
      "         'http://127.0.0.1:5000/cat/node/link',\n",
      " 'bom': {'invoice_cid': 'QmTn5mNqyvhRq3XN8psZsUc7UWcTFYS2rkyuT2nNfu8TrP',\n",
      "         'log_cid': 'QmUzLKGdziF5usuT9x7AYZe1VV5DkXzpaT8vAwu9gnR9Ar'},\n",
      " 'bom_cid': 'QmUdVovpSP47zFV6yEoEEBKAnCdhe27bnBP9BXZhKe7kfC',\n",
      " 'flat_bom': {'invoice': {'data_cid': 'QmVxgWgkKyKsgoo53sU1avXBDkDw2vHSFrpNjD9q5Umg7v',\n",
      "                          'order': {'endpoint': 'http://127.0.0.1:5000/cat/node/link',\n",
      "                                    'flat': {'function': {'infrafunction': None,\n",
      "                                                          'process_cid': 'QmXC2XLDePUxCoPtETPejd5uwF3BcaoQNAn2vRU4a4BK7z'},\n",
      "                                             'invoice': {'data_cid': 'QmcAKb37o6t1ZPi3AvciczxdS3pz6fG3Yq851fGkEqczZp'}},\n",
      "                                    'function_cid': 'QmXoU3V8JWvHm12rbsm4czhQAS1k47ESY5Uto1Pqekb87q',\n",
      "                                    'invoice_cid': 'QmUvzmuFAyxRdyHQg1K8RgqZAzZntqarjZQiKgvibzmJFP',\n",
      "                                    'structure_cid': 'QmYyFroE2Nw1BVg3D1MQdeZFrMAn9XWYHgWueMUKaRGops',\n",
      "                                    'structure_filepath': 'main.tf'},\n",
      "                          'order_cid': 'QmXmDDYJpiQRABXifxddinBvxL715QnUARuuihSB7D6qBJ',\n",
      "                          'seed_cid': None},\n",
      "              'log': {'egress_job_id': '82378fda-b6f3-4243-81e3-1839ba2d2d83',\n",
      "                      'ingress_job_id': 'fc1f418f-d0a9-4918-b778-934db669fe10',\n",
      "                      'integration_output': 's3://catstore3/boms/result-20240123-fc1f418f-d0a9-4918-b778-934db669fe10-integrated'}}}\n"
     ]
    },
    {
     "name": "stderr",
     "output_type": "stream",
     "text": [
      "100   278  100   215    0    63      1      0  0:03:35  0:02:35  0:01:00    55\n"
     ]
    }
   ],
   "source": [
    "cat_invoiced_response_1 = service.catSubmit(cat_order_request_1)\n",
    "# pprint(cat_invoiced_response_1)\n",
    "flat_cat_invoiced_response_1 = service.flatten_bom(cat_invoiced_response_1)\n",
    "pprint(flat_cat_invoiced_response_1)"
   ]
  }
 ],
 "metadata": {
  "kernelspec": {
   "display_name": "Python 3 (ipykernel)",
   "language": "python",
   "name": "python3"
  },
  "language_info": {
   "codemirror_mode": {
    "name": "ipython",
    "version": 3
   },
   "file_extension": ".py",
   "mimetype": "text/x-python",
   "name": "python",
   "nbconvert_exporter": "python",
   "pygments_lexer": "ipython3",
   "version": "3.10.13"
  }
 },
 "nbformat": 4,
 "nbformat_minor": 5
}
